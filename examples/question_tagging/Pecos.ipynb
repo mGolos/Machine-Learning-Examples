{
 "cells": [
  {
   "cell_type": "markdown",
   "id": "e6a96355",
   "metadata": {
    "papermill": {
     "duration": 0.034587,
     "end_time": "2021-11-04T17:24:34.148802",
     "exception": false,
     "start_time": "2021-11-04T17:24:34.114215",
     "status": "completed"
    },
    "tags": []
   },
   "source": [
    "# Librairies"
   ]
  },
  {
   "cell_type": "code",
   "execution_count": 1,
   "id": "3961b1f9",
   "metadata": {
    "execution": {
     "iopub.execute_input": "2021-11-04T17:24:34.215682Z",
     "iopub.status.busy": "2021-11-04T17:24:34.214533Z",
     "iopub.status.idle": "2021-11-04T17:25:06.514952Z",
     "shell.execute_reply": "2021-11-04T17:25:06.514308Z",
     "shell.execute_reply.started": "2021-11-04T16:06:12.570825Z"
    },
    "papermill": {
     "duration": 32.333842,
     "end_time": "2021-11-04T17:25:06.515110",
     "exception": false,
     "start_time": "2021-11-04T17:24:34.181268",
     "status": "completed"
    },
    "tags": []
   },
   "outputs": [
    {
     "name": "stdout",
     "output_type": "stream",
     "text": [
      "\u001b[33mWARNING: Running pip as the 'root' user can result in broken permissions and conflicting behaviour with the system package manager. It is recommended to use a virtual environment instead: https://pip.pypa.io/warnings/venv\u001b[0m\r\n",
      "Collecting pytest-runner\r\n",
      "  Downloading pytest_runner-5.3.1-py3-none-any.whl (7.1 kB)\r\n",
      "Installing collected packages: pytest-runner\r\n",
      "Successfully installed pytest-runner-5.3.1\r\n",
      "\u001b[33mWARNING: Running pip as the 'root' user can result in broken permissions and conflicting behaviour with the system package manager. It is recommended to use a virtual environment instead: https://pip.pypa.io/warnings/venv\u001b[0m\r\n",
      "\u001b[31mERROR: pip's dependency resolver does not currently take into account all the packages that are installed. This behaviour is the source of the following dependency conflicts.\r\n",
      "pdpbox 0.2.1 requires matplotlib==3.1.1, but you have matplotlib 3.4.3 which is incompatible.\r\n",
      "hypertools 0.7.0 requires scikit-learn!=0.22,<0.24,>=0.19.1, but you have scikit-learn 1.0.1 which is incompatible.\u001b[0m\r\n",
      "\u001b[33mWARNING: Running pip as the 'root' user can result in broken permissions and conflicting behaviour with the system package manager. It is recommended to use a virtual environment instead: https://pip.pypa.io/warnings/venv\u001b[0m\r\n"
     ]
    }
   ],
   "source": [
    "! pip install scikit-learn>=0.24.2\n",
    "! pip install pytest-runner\n",
    "! pip install libpecos>=0.2.0"
   ]
  },
  {
   "cell_type": "code",
   "execution_count": 2,
   "id": "7beb1cc3",
   "metadata": {
    "execution": {
     "iopub.execute_input": "2021-11-04T17:25:06.584357Z",
     "iopub.status.busy": "2021-11-04T17:25:06.583762Z",
     "iopub.status.idle": "2021-11-04T17:25:12.992121Z",
     "shell.execute_reply": "2021-11-04T17:25:12.991481Z",
     "shell.execute_reply.started": "2021-11-04T16:06:40.897356Z"
    },
    "papermill": {
     "duration": 6.445766,
     "end_time": "2021-11-04T17:25:12.992269",
     "exception": false,
     "start_time": "2021-11-04T17:25:06.546503",
     "status": "completed"
    },
    "tags": []
   },
   "outputs": [],
   "source": [
    "import pandas as pd\n",
    "import numpy as np\n",
    "import matplotlib.pyplot as plt\n",
    "from sklearn import feature_extraction, model_selection, metrics\n",
    "from pecos.xmc.base import LabelEmbeddingFactory, Indexer\n",
    "from pecos.xmc.xlinear.model import XLinearModel\n",
    "from pecos.xmc.xtransformer.model import XTransformer\n",
    "from pecos.xmc.xtransformer.module import MLProblemWithText\n",
    "import warnings\n",
    "warnings.filterwarnings(\"ignore\")"
   ]
  },
  {
   "cell_type": "markdown",
   "id": "9077164f",
   "metadata": {
    "papermill": {
     "duration": 0.031094,
     "end_time": "2021-11-04T17:25:13.054429",
     "exception": false,
     "start_time": "2021-11-04T17:25:13.023335",
     "status": "completed"
    },
    "tags": []
   },
   "source": [
    "# Chargement des données"
   ]
  },
  {
   "cell_type": "code",
   "execution_count": 3,
   "id": "c0bffef0",
   "metadata": {
    "execution": {
     "iopub.execute_input": "2021-11-04T17:25:13.126450Z",
     "iopub.status.busy": "2021-11-04T17:25:13.125792Z",
     "iopub.status.idle": "2021-11-04T17:25:13.598654Z",
     "shell.execute_reply": "2021-11-04T17:25:13.598036Z",
     "shell.execute_reply.started": "2021-11-04T16:06:44.370273Z"
    },
    "papermill": {
     "duration": 0.513641,
     "end_time": "2021-11-04T17:25:13.598813",
     "exception": false,
     "start_time": "2021-11-04T17:25:13.085172",
     "status": "completed"
    },
    "tags": []
   },
   "outputs": [
    {
     "data": {
      "text/html": [
       "<div>\n",
       "<style scoped>\n",
       "    .dataframe tbody tr th:only-of-type {\n",
       "        vertical-align: middle;\n",
       "    }\n",
       "\n",
       "    .dataframe tbody tr th {\n",
       "        vertical-align: top;\n",
       "    }\n",
       "\n",
       "    .dataframe thead th {\n",
       "        text-align: right;\n",
       "    }\n",
       "</style>\n",
       "<table border=\"1\" class=\"dataframe\">\n",
       "  <thead>\n",
       "    <tr style=\"text-align: right;\">\n",
       "      <th></th>\n",
       "      <th>X</th>\n",
       "      <th>Y</th>\n",
       "    </tr>\n",
       "  </thead>\n",
       "  <tbody>\n",
       "    <tr>\n",
       "      <th>0</th>\n",
       "      <td>convert decim c# convert decim c# use chang fo...</td>\n",
       "      <td>c# floating-point type-conversion double decimal</td>\n",
       "    </tr>\n",
       "    <tr>\n",
       "      <th>1</th>\n",
       "      <td>width collaps percentag width child element ab...</td>\n",
       "      <td>html css internet-explorer-7</td>\n",
       "    </tr>\n",
       "    <tr>\n",
       "      <th>2</th>\n",
       "      <td>calcul someon age base type birthday calcul so...</td>\n",
       "      <td>c# .net datetime</td>\n",
       "    </tr>\n",
       "    <tr>\n",
       "      <th>3</th>\n",
       "      <td>calcul time c# calcul time c# given datetim va...</td>\n",
       "      <td>c# datetime time</td>\n",
       "    </tr>\n",
       "    <tr>\n",
       "      <th>4</th>\n",
       "      <td>determin user timezon determin user timezon wa...</td>\n",
       "      <td>html browser timezone</td>\n",
       "    </tr>\n",
       "    <tr>\n",
       "      <th>...</th>\n",
       "      <td>...</td>\n",
       "      <td>...</td>\n",
       "    </tr>\n",
       "    <tr>\n",
       "      <th>49506</th>\n",
       "      <td>git submodul way work copi within work copi gi...</td>\n",
       "      <td>git</td>\n",
       "    </tr>\n",
       "    <tr>\n",
       "      <th>49507</th>\n",
       "      <td>sizeof bit bit data model sizeof bit bit data ...</td>\n",
       "      <td>c 64-bit sizeof</td>\n",
       "    </tr>\n",
       "    <tr>\n",
       "      <th>49508</th>\n",
       "      <td>use jqueri chang html tag use jqueri chang htm...</td>\n",
       "      <td>jquery</td>\n",
       "    </tr>\n",
       "    <tr>\n",
       "      <th>49509</th>\n",
       "      <td>differ express modifi flag differ express modi...</td>\n",
       "      <td>regex</td>\n",
       "    </tr>\n",
       "    <tr>\n",
       "      <th>49510</th>\n",
       "      <td>lookup zipcod gps coordin lookup zipcod gps co...</td>\n",
       "      <td>iphone gps</td>\n",
       "    </tr>\n",
       "  </tbody>\n",
       "</table>\n",
       "<p>49511 rows × 2 columns</p>\n",
       "</div>"
      ],
      "text/plain": [
       "                                                       X  \\\n",
       "0      convert decim c# convert decim c# use chang fo...   \n",
       "1      width collaps percentag width child element ab...   \n",
       "2      calcul someon age base type birthday calcul so...   \n",
       "3      calcul time c# calcul time c# given datetim va...   \n",
       "4      determin user timezon determin user timezon wa...   \n",
       "...                                                  ...   \n",
       "49506  git submodul way work copi within work copi gi...   \n",
       "49507  sizeof bit bit data model sizeof bit bit data ...   \n",
       "49508  use jqueri chang html tag use jqueri chang htm...   \n",
       "49509  differ express modifi flag differ express modi...   \n",
       "49510  lookup zipcod gps coordin lookup zipcod gps co...   \n",
       "\n",
       "                                                      Y  \n",
       "0      c# floating-point type-conversion double decimal  \n",
       "1                          html css internet-explorer-7  \n",
       "2                                      c# .net datetime  \n",
       "3                                      c# datetime time  \n",
       "4                                 html browser timezone  \n",
       "...                                                 ...  \n",
       "49506                                               git  \n",
       "49507                                   c 64-bit sizeof  \n",
       "49508                                            jquery  \n",
       "49509                                             regex  \n",
       "49510                                        iphone gps  \n",
       "\n",
       "[49511 rows x 2 columns]"
      ]
     },
     "execution_count": 3,
     "metadata": {},
     "output_type": "execute_result"
    }
   ],
   "source": [
    "df = pd.read_csv('../input/stackoverflow-questions-tags/questions_tags_cleaned.csv')\n",
    "df"
   ]
  },
  {
   "cell_type": "markdown",
   "id": "ebb59821",
   "metadata": {
    "papermill": {
     "duration": 0.030786,
     "end_time": "2021-11-04T17:25:13.660208",
     "exception": false,
     "start_time": "2021-11-04T17:25:13.629422",
     "status": "completed"
    },
    "tags": []
   },
   "source": [
    "# Modélisation\n",
    "The eXtreme Multi-label Ranking (XMR) problem is defined by two matrices\n",
    "* instance-to-feature matrix X, of shape N by D in SciPy CSR format\n",
    "* instance-to-label matrix Y, of shape N by L in SciPy CSR format"
   ]
  },
  {
   "cell_type": "code",
   "execution_count": 4,
   "id": "bd9a4c36",
   "metadata": {
    "execution": {
     "iopub.execute_input": "2021-11-04T17:25:13.730441Z",
     "iopub.status.busy": "2021-11-04T17:25:13.729568Z",
     "iopub.status.idle": "2021-11-04T17:25:13.732085Z",
     "shell.execute_reply": "2021-11-04T17:25:13.731569Z",
     "shell.execute_reply.started": "2021-11-04T16:06:44.725609Z"
    },
    "papermill": {
     "duration": 0.041176,
     "end_time": "2021-11-04T17:25:13.732216",
     "exception": false,
     "start_time": "2021-11-04T17:25:13.691040",
     "status": "completed"
    },
    "tags": []
   },
   "outputs": [],
   "source": [
    "def df_scores():\n",
    "    import warnings\n",
    "    warnings.filterwarnings(\"ignore\")\n",
    "    scores = {\n",
    "        'Train': {\n",
    "            'Accuracy' :  metrics.accuracy_score(Y_train, Y_pred_train),\n",
    "            'Recall' :    metrics.recall_score(Y_train, Y_pred_train, average='weighted'),\n",
    "            'Precision' : metrics.precision_score(Y_train, Y_pred_train, average='weighted'),\n",
    "            'F1 score' :  metrics.f1_score(Y_train, Y_pred_train, average='weighted'),\n",
    "            'Jaccard' :   metrics.jaccard_score(Y_train, Y_pred_train, average='weighted')},\n",
    "        'Test': {\n",
    "            'Accuracy' :  metrics.accuracy_score(Y_test, Y_pred_test),\n",
    "            'Recall' :    metrics.recall_score(Y_test, Y_pred_test, average='weighted'),\n",
    "            'Precision' : metrics.precision_score(Y_test, Y_pred_test, average='weighted'),\n",
    "            'F1 score' :  metrics.f1_score(Y_test, Y_pred_test, average='weighted'),\n",
    "            'Jaccard' :   metrics.jaccard_score(Y_test, Y_pred_test, average='weighted')}}\n",
    "    return pd.DataFrame.from_dict(scores).T"
   ]
  },
  {
   "cell_type": "code",
   "execution_count": 5,
   "id": "0180e4d0",
   "metadata": {
    "execution": {
     "iopub.execute_input": "2021-11-04T17:25:13.849493Z",
     "iopub.status.busy": "2021-11-04T17:25:13.813176Z",
     "iopub.status.idle": "2021-11-04T17:25:17.200206Z",
     "shell.execute_reply": "2021-11-04T17:25:17.200751Z",
     "shell.execute_reply.started": "2021-11-04T16:06:44.736984Z"
    },
    "papermill": {
     "duration": 3.43742,
     "end_time": "2021-11-04T17:25:17.200957",
     "exception": false,
     "start_time": "2021-11-04T17:25:13.763537",
     "status": "completed"
    },
    "tags": []
   },
   "outputs": [],
   "source": [
    "tfidfX = feature_extraction.text.TfidfVectorizer()\n",
    "tfidfY = feature_extraction.text.TfidfVectorizer()\n",
    "X_text = df['X'].values\n",
    "X = tfidfX.fit_transform(df['X'].values).astype(np.float32)\n",
    "Y = tfidfY.fit_transform(df['Y'].values).astype(np.float32)\n",
    "Y[Y!=0] = 1\n",
    "X_text_train, X_text_test, X_train, X_test, Y_train, Y_test = model_selection.train_test_split(X_text, X, Y, test_size=0.3, random_state=37)\n",
    "\n",
    "label_feat = LabelEmbeddingFactory.create(Y_train, X_train)\n",
    "cluster_chain = Indexer.gen(label_feat)"
   ]
  },
  {
   "cell_type": "code",
   "execution_count": 6,
   "id": "db88592d",
   "metadata": {
    "execution": {
     "iopub.execute_input": "2021-11-04T17:25:17.271840Z",
     "iopub.status.busy": "2021-11-04T17:25:17.271170Z",
     "iopub.status.idle": "2021-11-04T17:25:17.281343Z",
     "shell.execute_reply": "2021-11-04T17:25:17.280876Z",
     "shell.execute_reply.started": "2021-11-04T16:06:48.523625Z"
    },
    "papermill": {
     "duration": 0.045906,
     "end_time": "2021-11-04T17:25:17.281467",
     "exception": false,
     "start_time": "2021-11-04T17:25:17.235561",
     "status": "completed"
    },
    "tags": []
   },
   "outputs": [
    {
     "name": "stdout",
     "output_type": "stream",
     "text": [
      "Sparsité de X : 0.365% ; Dimensions (49511, 8556)\n",
      "Sparsité de Y : 0.205% ; Dimensions (49511, 1395)\n"
     ]
    }
   ],
   "source": [
    "print(f\"Sparsité de X : {X.count_nonzero() / X.shape[0] / X.shape[1] *100:.3f}% ; Dimensions {X.shape}\")\n",
    "print(f\"Sparsité de Y : {Y.count_nonzero() / Y.shape[0] / Y.shape[1] *100:.3f}% ; Dimensions {Y.shape}\")"
   ]
  },
  {
   "cell_type": "markdown",
   "id": "4cf75f98",
   "metadata": {
    "execution": {
     "iopub.execute_input": "2021-10-19T23:30:38.52822Z",
     "iopub.status.busy": "2021-10-19T23:30:38.527923Z",
     "iopub.status.idle": "2021-10-19T23:30:38.53485Z",
     "shell.execute_reply": "2021-10-19T23:30:38.534041Z",
     "shell.execute_reply.started": "2021-10-19T23:30:38.528187Z"
    },
    "papermill": {
     "duration": 0.031599,
     "end_time": "2021-11-04T17:25:17.345080",
     "exception": false,
     "start_time": "2021-11-04T17:25:17.313481",
     "status": "completed"
    },
    "tags": []
   },
   "source": [
    "## XR-Linear"
   ]
  },
  {
   "cell_type": "markdown",
   "id": "0f09c549",
   "metadata": {
    "papermill": {
     "duration": 0.031489,
     "end_time": "2021-11-04T17:25:17.407724",
     "exception": false,
     "start_time": "2021-11-04T17:25:17.376235",
     "status": "completed"
    },
    "tags": []
   },
   "source": [
    "* study different 𝑛-gram TF-IDF feature realizations, consider four configurations:\n",
    "    1. wordlevel unigrams with 3 million features\n",
    "    1. word-level unigrams and bigrams with 3 million features\n",
    "    1. word-level unigrams and bigrams with 5.6 million features (has a larger vocabulary size to examine the effect of character trigrams)\n",
    "    1. word-level unigrams and bigrams, plus character-level trigrams, total of 4.2 million features\n",
    "* We use PIFA to construct semantic product embeddings and\n",
    "* build the label tree via hierarchical K-means, where \n",
    "* the branching factor is 𝐵 = 32, \n",
    "* the tree depth is 𝐷 = 5, and \n",
    "* the maximum number of labels in each cluster is 𝐿/𝐵 ^(𝐷−1) = 100. \n",
    "* The negative sampling strategy is Teacher Forcing Negatives (TFN) [52],\n",
    "* the transformation predictive function is L3 hinge, and \n",
    "* default beam size is 𝑏 = 10. \n",
    "* Unless otherwise specified, we follow the default hyper-parameter settings of PECOS."
   ]
  },
  {
   "cell_type": "markdown",
   "id": "e208e0ad",
   "metadata": {
    "papermill": {
     "duration": 0.030875,
     "end_time": "2021-11-04T17:25:17.469988",
     "exception": false,
     "start_time": "2021-11-04T17:25:17.439113",
     "status": "completed"
    },
    "tags": []
   },
   "source": [
    "##### Résultats\n",
    "* Pas de changement pour nr_splits (rel_mode disable)\n",
    "* \n",
    "* \n",
    "* ~Meilleur sans Complete Chain 0.71 > 0.72 (rel_mode induced/disable)"
   ]
  },
  {
   "cell_type": "markdown",
   "id": "6dca6bf9",
   "metadata": {
    "papermill": {
     "duration": 0.031062,
     "end_time": "2021-11-04T17:25:17.532862",
     "exception": false,
     "start_time": "2021-11-04T17:25:17.501800",
     "status": "completed"
    },
    "tags": []
   },
   "source": [
    "## max_iter"
   ]
  },
  {
   "cell_type": "code",
   "execution_count": 7,
   "id": "7832c4d9",
   "metadata": {
    "execution": {
     "iopub.execute_input": "2021-11-04T17:25:17.603483Z",
     "iopub.status.busy": "2021-11-04T17:25:17.602597Z",
     "iopub.status.idle": "2021-11-04T17:29:38.304834Z",
     "shell.execute_reply": "2021-11-04T17:29:38.305538Z",
     "shell.execute_reply.started": "2021-11-04T14:55:11.179258Z"
    },
    "papermill": {
     "duration": 260.741401,
     "end_time": "2021-11-04T17:29:38.305780",
     "exception": false,
     "start_time": "2021-11-04T17:25:17.564379",
     "status": "completed"
    },
    "tags": []
   },
   "outputs": [
    {
     "name": "stdout",
     "output_type": "stream",
     "text": [
      "CPU times: user 16min 25s, sys: 4.91 s, total: 16min 30s\n",
      "Wall time: 4min 20s\n"
     ]
    }
   ],
   "source": [
    "%%time\n",
    "results_test = []\n",
    "params = range(1,20, 2)\n",
    "for p in params:\n",
    "    train_params = XLinearModel.TrainParams.from_dict({}, recursive=True)\n",
    "    train_params.nr_splits = 16  # 16 number of splits used to construct indexer hierarchy if C is not a complete chain\n",
    "    train_params.rel_mode = 'disable'  # 'disable' mode to use relevance score for cost sensitive learning\n",
    "    train_params.hlm_args.model_chain.threshold = 0.1  # 0.1 sparsify the final model by eliminating all entrees with abs value less than threshold.learning\n",
    "    train_params.hlm_args.model_chain.Cp = 1.0  # 1.0, positive penalty parameter\n",
    "    train_params.hlm_args.model_chain.max_iter = p  # 100\n",
    "    train_params.hlm_args.model_chain.eps = 0.1  # 0.1\n",
    "    train_params.hlm_args.model_chain.bias = 1.0  # 1.0\n",
    "    \n",
    "    xlm = XLinearModel.train(X_train, Y_train, C=None, train_params=train_params)\n",
    "    results_test.append( xlm.predict(X_test) )"
   ]
  },
  {
   "cell_type": "code",
   "execution_count": 8,
   "id": "6695f2bd",
   "metadata": {
    "execution": {
     "iopub.execute_input": "2021-11-04T17:29:38.374242Z",
     "iopub.status.busy": "2021-11-04T17:29:38.373686Z",
     "iopub.status.idle": "2021-11-04T17:29:45.986455Z",
     "shell.execute_reply": "2021-11-04T17:29:45.985942Z",
     "shell.execute_reply.started": "2021-11-04T14:26:46.786014Z"
    },
    "papermill": {
     "duration": 7.64764,
     "end_time": "2021-11-04T17:29:45.986594",
     "exception": false,
     "start_time": "2021-11-04T17:29:38.338954",
     "status": "completed"
    },
    "tags": []
   },
   "outputs": [
    {
     "data": {
      "image/png": "[encoded data removed]",
      "text/plain": [
       "<Figure size 360x576 with 1 Axes>"
      ]
     },
     "metadata": {
      "needs_background": "light"
     },
     "output_type": "display_data"
    }
   ],
   "source": [
    "rangeX = np.linspace(0.1,0.9,50)\n",
    "plt.figure(figsize=(5,8))\n",
    "for i, p in enumerate(params):  \n",
    "    scores_train, scores_test = [], []\n",
    "    for threshold in rangeX:\n",
    "        scores_test.append(metrics.precision_score(Y_test, results_test[i] > threshold, average='weighted'))\n",
    "        \n",
    "    plt.plot(rangeX, scores_test, label=str(p))\n",
    "    \n",
    "plt.title('Test')\n",
    "plt.xlabel('Seuil')\n",
    "plt.ylabel('Score')\n",
    "plt.legend()\n",
    "plt.show()"
   ]
  },
  {
   "cell_type": "markdown",
   "id": "c393e9b7",
   "metadata": {
    "papermill": {
     "duration": 0.034752,
     "end_time": "2021-11-04T17:29:46.059887",
     "exception": false,
     "start_time": "2021-11-04T17:29:46.025135",
     "status": "completed"
    },
    "tags": []
   },
   "source": [
    "## Cp"
   ]
  },
  {
   "cell_type": "code",
   "execution_count": 9,
   "id": "31dc78f1",
   "metadata": {
    "execution": {
     "iopub.execute_input": "2021-11-04T17:29:46.137346Z",
     "iopub.status.busy": "2021-11-04T17:29:46.136711Z",
     "iopub.status.idle": "2021-11-04T17:33:40.482688Z",
     "shell.execute_reply": "2021-11-04T17:33:40.483255Z",
     "shell.execute_reply.started": "2021-11-04T15:59:37.530802Z"
    },
    "papermill": {
     "duration": 234.387703,
     "end_time": "2021-11-04T17:33:40.483466",
     "exception": false,
     "start_time": "2021-11-04T17:29:46.095763",
     "status": "completed"
    },
    "tags": []
   },
   "outputs": [
    {
     "name": "stdout",
     "output_type": "stream",
     "text": [
      "CPU times: user 14min 35s, sys: 6.96 s, total: 14min 42s\n",
      "Wall time: 3min 54s\n"
     ]
    }
   ],
   "source": [
    "%%time\n",
    "results_test = []\n",
    "params = [0.3,0.4,0.5,0.6,0.7,0.8,0.9,1.0]\n",
    "for p in params:\n",
    "    train_params = XLinearModel.TrainParams.from_dict({}, recursive=True)\n",
    "    train_params.rel_mode = 'induce'  # 'disable' induce, mode to use relevance score for cost sensitive learning\n",
    "    train_params.hlm_args.model_chain.Cp = p  # 1.0, positive penalty parameter\n",
    "    train_params.hlm_args.model_chain.Cn = 1.0  # 1.0, negative  penalty parameter\n",
    "    train_params.hlm_args.model_chain.max_iter = 42  # 100\n",
    "    xlm = XLinearModel.train(X_train, Y_train, C=None, train_params=train_params)\n",
    "    results_test.append( xlm.predict(X_test) )"
   ]
  },
  {
   "cell_type": "code",
   "execution_count": 10,
   "id": "35c998f0",
   "metadata": {
    "execution": {
     "iopub.execute_input": "2021-11-04T17:33:40.563714Z",
     "iopub.status.busy": "2021-11-04T17:33:40.562872Z",
     "iopub.status.idle": "2021-11-04T17:33:46.428008Z",
     "shell.execute_reply": "2021-11-04T17:33:46.428458Z",
     "shell.execute_reply.started": "2021-11-04T16:04:16.340183Z"
    },
    "papermill": {
     "duration": 5.911574,
     "end_time": "2021-11-04T17:33:46.428613",
     "exception": false,
     "start_time": "2021-11-04T17:33:40.517039",
     "status": "completed"
    },
    "tags": []
   },
   "outputs": [
    {
     "data": {
      "image/png": "[encoded data removed]",
      "text/plain": [
       "<Figure size 360x576 with 1 Axes>"
      ]
     },
     "metadata": {
      "needs_background": "light"
     },
     "output_type": "display_data"
    }
   ],
   "source": [
    "rangeX = np.linspace(0.1,0.9,50)\n",
    "plt.figure(figsize=(5,8))\n",
    "for i, p in enumerate(params):  \n",
    "    scores_train, scores_test = [], []\n",
    "    for threshold in rangeX:\n",
    "        scores_test.append(metrics.precision_score(Y_test, results_test[i] > threshold, average='weighted'))\n",
    "        \n",
    "    plt.plot(rangeX, scores_test, label=str(p))\n",
    "    \n",
    "plt.title('Test')\n",
    "plt.xlabel('Seuil')\n",
    "plt.ylabel('Score')\n",
    "plt.legend()\n",
    "plt.show()"
   ]
  },
  {
   "cell_type": "code",
   "execution_count": 11,
   "id": "86147d72",
   "metadata": {
    "execution": {
     "iopub.execute_input": "2021-11-04T17:33:46.504576Z",
     "iopub.status.busy": "2021-11-04T17:33:46.504034Z",
     "iopub.status.idle": "2021-11-04T17:33:46.509626Z",
     "shell.execute_reply": "2021-11-04T17:33:46.510195Z",
     "shell.execute_reply.started": "2021-11-04T14:42:49.488581Z"
    },
    "papermill": {
     "duration": 0.044842,
     "end_time": "2021-11-04T17:33:46.510340",
     "exception": false,
     "start_time": "2021-11-04T17:33:46.465498",
     "status": "completed"
    },
    "tags": []
   },
   "outputs": [
    {
     "data": {
      "text/plain": [
       "{'__meta__': {'class_fullname': 'pecos.xmc.xlinear.model###XLinearModel.TrainParams'},\n",
       " 'mode': 'full-model',\n",
       " 'ranker_level': 1,\n",
       " 'nr_splits': 16,\n",
       " 'min_codes': None,\n",
       " 'shallow': False,\n",
       " 'rel_mode': 'induce',\n",
       " 'rel_norm': 'no-norm',\n",
       " 'hlm_args': {'__meta__': {'class_fullname': 'pecos.xmc.base###HierarchicalMLModel.TrainParams'},\n",
       "  'neg_mining_chain': 'tfn',\n",
       "  'model_chain': {'__meta__': {'class_fullname': 'pecos.xmc.base###MLModel.TrainParams'},\n",
       "   'threshold': 0.1,\n",
       "   'max_nonzeros_per_label': None,\n",
       "   'solver_type': 'L2R_L2LOSS_SVC_DUAL',\n",
       "   'Cp': 1.0,\n",
       "   'Cn': 1.0,\n",
       "   'max_iter': 42,\n",
       "   'eps': 0.1,\n",
       "   'bias': 1.0,\n",
       "   'threads': -1,\n",
       "   'verbose': 0,\n",
       "   'newton_eps': 0.01}}}"
      ]
     },
     "execution_count": 11,
     "metadata": {},
     "output_type": "execute_result"
    }
   ],
   "source": [
    "train_params.to_dict()"
   ]
  },
  {
   "cell_type": "code",
   "execution_count": 12,
   "id": "5a76b978",
   "metadata": {
    "execution": {
     "iopub.execute_input": "2021-11-04T17:33:46.584757Z",
     "iopub.status.busy": "2021-11-04T17:33:46.584195Z",
     "iopub.status.idle": "2021-11-04T17:34:02.831268Z",
     "shell.execute_reply": "2021-11-04T17:34:02.830578Z",
     "shell.execute_reply.started": "2021-11-04T16:38:34.422732Z"
    },
    "papermill": {
     "duration": 16.285456,
     "end_time": "2021-11-04T17:34:02.831410",
     "exception": false,
     "start_time": "2021-11-04T17:33:46.545954",
     "status": "completed"
    },
    "tags": []
   },
   "outputs": [
    {
     "name": "stdout",
     "output_type": "stream",
     "text": [
      "CPU times: user 1min 3s, sys: 53.1 ms, total: 1min 3s\n",
      "Wall time: 16.2 s\n"
     ]
    }
   ],
   "source": [
    "%%time\n",
    "train_params = XLinearModel.TrainParams.from_dict({}, recursive=True)\n",
    "train_params.nr_splits = 16  # 16, number of splits used to construct indexer hierarchy if C is not a complete chain\n",
    "train_params.rel_mode = 'disable'  # 'disable', mode to use relevance score for cost sensitive learning\n",
    "train_params.hlm_args.model_chain.threshold = 0.1  # 0.1, sparsify the final model by eliminating all entrees with abs value less than threshold.\n",
    "train_params.hlm_args.model_chain.Cp = 0.4  # 1.0, positive penalty parameter\n",
    "train_params.hlm_args.model_chain.max_iter = 50  # 100\n",
    "train_params.hlm_args.model_chain.eps = 0.1  # 0.1\n",
    "train_params.hlm_args.model_chain.bias = 1.0  # 1.0\n",
    "xlm = XLinearModel.train(X_train, Y_train, train_params=train_params, C=None)#cluster_chain)\n",
    "xlm.save(\"XR-Linear\")\n",
    "xlm = XLinearModel.load(\"XR-Linear\", is_predict_only=False)"
   ]
  },
  {
   "cell_type": "code",
   "execution_count": 13,
   "id": "49823968",
   "metadata": {
    "execution": {
     "iopub.execute_input": "2021-11-04T17:34:02.909013Z",
     "iopub.status.busy": "2021-11-04T17:34:02.908077Z",
     "iopub.status.idle": "2021-11-04T17:34:42.672394Z",
     "shell.execute_reply": "2021-11-04T17:34:42.672866Z",
     "shell.execute_reply.started": "2021-11-04T16:38:37.651613Z"
    },
    "papermill": {
     "duration": 39.804432,
     "end_time": "2021-11-04T17:34:42.673032",
     "exception": false,
     "start_time": "2021-11-04T17:34:02.868600",
     "status": "completed"
    },
    "tags": []
   },
   "outputs": [
    {
     "name": "stdout",
     "output_type": "stream",
     "text": [
      "CPU times: user 2min 20s, sys: 2.48 s, total: 2min 22s\n",
      "Wall time: 39.7 s\n"
     ]
    }
   ],
   "source": [
    "%%time\n",
    "tmp1 = xlm.predict(X_train)\n",
    "tmp2 = xlm.predict(X_test)"
   ]
  },
  {
   "cell_type": "code",
   "execution_count": 14,
   "id": "906501e3",
   "metadata": {
    "execution": {
     "iopub.execute_input": "2021-11-04T17:34:42.752484Z",
     "iopub.status.busy": "2021-11-04T17:34:42.751617Z",
     "iopub.status.idle": "2021-11-04T17:34:45.935259Z",
     "shell.execute_reply": "2021-11-04T17:34:45.934795Z",
     "shell.execute_reply.started": "2021-11-04T16:39:22.452522Z"
    },
    "papermill": {
     "duration": 3.224391,
     "end_time": "2021-11-04T17:34:45.935386",
     "exception": false,
     "start_time": "2021-11-04T17:34:42.710995",
     "status": "completed"
    },
    "tags": []
   },
   "outputs": [
    {
     "data": {
      "image/png": "[encoded data removed]",
      "text/plain": [
       "<Figure size 360x576 with 1 Axes>"
      ]
     },
     "metadata": {
      "needs_background": "light"
     },
     "output_type": "display_data"
    }
   ],
   "source": [
    "# Différents scores en fonction du seuil de validation de tag\n",
    "rangeX = np.linspace(0.01,0.9,50)\n",
    "plt.figure(figsize=(5,8))\n",
    "for score, kwargs, title in zip(\n",
    "    [metrics.accuracy_score, metrics.recall_score, metrics.precision_score, metrics.jaccard_score, metrics.f1_score], \n",
    "    [{},{'average':'weighted'},{'average':'weighted'},{'average':'weighted'},{'average':'weighted'}],\n",
    "    ['Fidélité','Rappel','Précision','Jaccard','F1-score']):\n",
    "    \n",
    "    scores_train, scores_test = [], []\n",
    "    for threshold in rangeX:\n",
    "        scores_test.append(score(Y_test, tmp2 > threshold, **kwargs))\n",
    "    plt.plot(rangeX, scores_test, label=title)\n",
    "    \n",
    "plt.title('Test')\n",
    "plt.xlabel('Seuil')\n",
    "plt.ylabel('Score')\n",
    "plt.legend()\n",
    "plt.show()"
   ]
  },
  {
   "cell_type": "code",
   "execution_count": 15,
   "id": "ff0ff171",
   "metadata": {
    "execution": {
     "iopub.execute_input": "2021-11-04T17:34:46.016906Z",
     "iopub.status.busy": "2021-11-04T17:34:46.016257Z",
     "iopub.status.idle": "2021-11-04T17:34:46.053947Z",
     "shell.execute_reply": "2021-11-04T17:34:46.054514Z",
     "shell.execute_reply.started": "2021-11-04T16:39:33.335612Z"
    },
    "papermill": {
     "duration": 0.079321,
     "end_time": "2021-11-04T17:34:46.054710",
     "exception": false,
     "start_time": "2021-11-04T17:34:45.975389",
     "status": "completed"
    },
    "tags": []
   },
   "outputs": [],
   "source": [
    "threshold = 0.05\n",
    "Y_pred_train = tmp1 > threshold\n",
    "Y_pred_test = tmp2 > threshold"
   ]
  },
  {
   "cell_type": "code",
   "execution_count": 16,
   "id": "33ca6bf3",
   "metadata": {
    "execution": {
     "iopub.execute_input": "2021-11-04T17:34:46.139661Z",
     "iopub.status.busy": "2021-11-04T17:34:46.138789Z",
     "iopub.status.idle": "2021-11-04T17:34:46.319658Z",
     "shell.execute_reply": "2021-11-04T17:34:46.320212Z",
     "shell.execute_reply.started": "2021-11-04T16:34:33.679999Z"
    },
    "papermill": {
     "duration": 0.225522,
     "end_time": "2021-11-04T17:34:46.320374",
     "exception": false,
     "start_time": "2021-11-04T17:34:46.094852",
     "status": "completed"
    },
    "tags": []
   },
   "outputs": [
    {
     "data": {
      "text/html": [
       "<div>\n",
       "<style scoped>\n",
       "    .dataframe tbody tr th:only-of-type {\n",
       "        vertical-align: middle;\n",
       "    }\n",
       "\n",
       "    .dataframe tbody tr th {\n",
       "        vertical-align: top;\n",
       "    }\n",
       "\n",
       "    .dataframe thead th {\n",
       "        text-align: right;\n",
       "    }\n",
       "</style>\n",
       "<table border=\"1\" class=\"dataframe\">\n",
       "  <thead>\n",
       "    <tr style=\"text-align: right;\">\n",
       "      <th></th>\n",
       "      <th>Accuracy</th>\n",
       "      <th>Recall</th>\n",
       "      <th>Precision</th>\n",
       "      <th>F1 score</th>\n",
       "      <th>Jaccard</th>\n",
       "    </tr>\n",
       "  </thead>\n",
       "  <tbody>\n",
       "    <tr>\n",
       "      <th>Train</th>\n",
       "      <td>0.486684</td>\n",
       "      <td>0.755553</td>\n",
       "      <td>0.938831</td>\n",
       "      <td>0.823364</td>\n",
       "      <td>0.717601</td>\n",
       "    </tr>\n",
       "    <tr>\n",
       "      <th>Test</th>\n",
       "      <td>0.164266</td>\n",
       "      <td>0.493746</td>\n",
       "      <td>0.660578</td>\n",
       "      <td>0.545405</td>\n",
       "      <td>0.417870</td>\n",
       "    </tr>\n",
       "  </tbody>\n",
       "</table>\n",
       "</div>"
      ],
      "text/plain": [
       "       Accuracy    Recall  Precision  F1 score   Jaccard\n",
       "Train  0.486684  0.755553   0.938831  0.823364  0.717601\n",
       "Test   0.164266  0.493746   0.660578  0.545405  0.417870"
      ]
     },
     "execution_count": 16,
     "metadata": {},
     "output_type": "execute_result"
    }
   ],
   "source": [
    "xlm_df = df_scores()\n",
    "xlm_df"
   ]
  },
  {
   "cell_type": "code",
   "execution_count": 17,
   "id": "c2177a2e",
   "metadata": {
    "execution": {
     "iopub.execute_input": "2021-11-04T17:34:46.400055Z",
     "iopub.status.busy": "2021-11-04T17:34:46.399096Z",
     "iopub.status.idle": "2021-11-04T17:34:47.433484Z",
     "shell.execute_reply": "2021-11-04T17:34:47.433000Z",
     "shell.execute_reply.started": "2021-11-04T17:10:41.797819Z"
    },
    "papermill": {
     "duration": 1.075254,
     "end_time": "2021-11-04T17:34:47.433617",
     "exception": false,
     "start_time": "2021-11-04T17:34:46.358363",
     "status": "completed"
    },
    "tags": []
   },
   "outputs": [
    {
     "name": "stdout",
     "output_type": "stream",
     "text": [
      "  adding: XR-Linear/ (stored 0%)\r\n",
      "  adding: XR-Linear/ranker/ (stored 0%)\r\n",
      "  adding: XR-Linear/ranker/0.model/ (stored 0%)\r\n",
      "  adding: XR-Linear/ranker/0.model/W.npz (deflated 34%)\r\n",
      "  adding: XR-Linear/ranker/0.model/C.npz (deflated 80%)\r\n",
      "  adding: XR-Linear/ranker/0.model/param.json (deflated 42%)\r\n",
      "  adding: XR-Linear/ranker/param.json (deflated 28%)\r\n",
      "  adding: XR-Linear/param.json (deflated 6%)\r\n"
     ]
    }
   ],
   "source": [
    "!zip -r XR-Linear.zip XR-Linear"
   ]
  },
  {
   "cell_type": "markdown",
   "id": "3fbbd870",
   "metadata": {
    "execution": {
     "iopub.execute_input": "2021-10-19T23:30:38.52822Z",
     "iopub.status.busy": "2021-10-19T23:30:38.527923Z",
     "iopub.status.idle": "2021-10-19T23:30:38.53485Z",
     "shell.execute_reply": "2021-10-19T23:30:38.534041Z",
     "shell.execute_reply.started": "2021-10-19T23:30:38.528187Z"
    },
    "papermill": {
     "duration": 0.040394,
     "end_time": "2021-11-04T17:34:47.515463",
     "exception": false,
     "start_time": "2021-11-04T17:34:47.475069",
     "status": "completed"
    },
    "tags": []
   },
   "source": [
    "## XR-Transformer"
   ]
  },
  {
   "cell_type": "code",
   "execution_count": 18,
   "id": "a1e9393a",
   "metadata": {
    "execution": {
     "iopub.execute_input": "2021-11-04T17:34:47.610567Z",
     "iopub.status.busy": "2021-11-04T17:34:47.609915Z",
     "iopub.status.idle": "2021-11-04T17:34:47.612299Z",
     "shell.execute_reply": "2021-11-04T17:34:47.611742Z",
     "shell.execute_reply.started": "2021-10-28T14:12:14.955443Z"
    },
    "papermill": {
     "duration": 0.056954,
     "end_time": "2021-11-04T17:34:47.612422",
     "exception": false,
     "start_time": "2021-11-04T17:34:47.555468",
     "status": "completed"
    },
    "tags": []
   },
   "outputs": [],
   "source": [
    "prob = MLProblemWithText(X_text_train.tolist(), Y_train, X_feat=X_train)\n",
    "train_params = XTransformer.TrainParams.from_dict({}, recursive=True)\n",
    "train_params.matcher_params_chain.init_model_dir = \"../input/test-xtransformer-saved-model/saved_model\"\n",
    "pred_params = XTransformer.PredParams.from_dict({}, recursive=True)"
   ]
  },
  {
   "cell_type": "code",
   "execution_count": 19,
   "id": "a714bf61",
   "metadata": {
    "execution": {
     "iopub.execute_input": "2021-11-04T17:34:47.694019Z",
     "iopub.status.busy": "2021-11-04T17:34:47.693370Z",
     "iopub.status.idle": "2021-11-04T17:34:47.699815Z",
     "shell.execute_reply": "2021-11-04T17:34:47.698940Z",
     "shell.execute_reply.started": "2021-10-28T14:12:21.059263Z"
    },
    "papermill": {
     "duration": 0.049402,
     "end_time": "2021-11-04T17:34:47.700021",
     "exception": false,
     "start_time": "2021-11-04T17:34:47.650619",
     "status": "completed"
    },
    "tags": []
   },
   "outputs": [
    {
     "name": "stdout",
     "output_type": "stream",
     "text": [
      "{'__meta__': {'class_fullname': 'pecos.xmc.xtransformer.model###XTransformer.TrainParams'}, 'preliminary_indexer_params': {'__meta__': {'class_fullname': 'pecos.xmc.base###HierarchicalKMeans.TrainParams'}, 'nr_splits': 16, 'min_codes': None, 'max_leaf_size': 100, 'imbalanced_ratio': 0.0, 'imbalanced_depth': 100, 'spherical': True, 'seed': 0, 'kmeans_max_iter': 20, 'threads': -1}, 'refined_indexer_params': {'__meta__': {'class_fullname': 'pecos.xmc.base###HierarchicalKMeans.TrainParams'}, 'nr_splits': 16, 'min_codes': None, 'max_leaf_size': 100, 'imbalanced_ratio': 0.0, 'imbalanced_depth': 100, 'spherical': True, 'seed': 0, 'kmeans_max_iter': 20, 'threads': -1}, 'matcher_params_chain': {'__meta__': {'class_fullname': 'pecos.xmc.xtransformer.matcher###TransformerMatcher.TrainParams'}, 'model_shortcut': 'bert-base-cased', 'negative_sampling': 'tfn', 'loss_function': 'squared-hinge', 'bootstrap_method': 'linear', 'lr_schedule': 'linear', 'threshold': 0.1, 'hidden_dropout_prob': 0.1, 'batch_size': 8, 'batch_gen_workers': 4, 'max_active_matching_labels': None, 'max_num_labels_in_gpu': 65536, 'max_steps': 0, 'max_no_improve_cnt': -1, 'num_train_epochs': 5, 'gradient_accumulation_steps': 1, 'weight_decay': 0, 'max_grad_norm': 1.0, 'learning_rate': 0.0001, 'adam_epsilon': 1e-08, 'warmup_steps': 0, 'logging_steps': 50, 'save_steps': 100, 'cost_sensitive_ranker': False, 'use_gpu': True, 'checkpoint_dir': '', 'cache_dir': '', 'init_model_dir': '../input/test-xtransformer-saved-model/saved_model'}, 'ranker_params': {'__meta__': {'class_fullname': 'pecos.xmc.xlinear.model###XLinearModel.TrainParams'}, 'mode': 'full-model', 'ranker_level': 1, 'nr_splits': 16, 'min_codes': None, 'shallow': False, 'rel_mode': 'disable', 'rel_norm': 'no-norm', 'hlm_args': {'__meta__': {'class_fullname': 'pecos.xmc.base###HierarchicalMLModel.TrainParams'}, 'neg_mining_chain': 'tfn', 'model_chain': {'__meta__': {'class_fullname': 'pecos.xmc.base###MLModel.TrainParams'}, 'threshold': 0.1, 'max_nonzeros_per_label': None, 'solver_type': 'L2R_L2LOSS_SVC_DUAL', 'Cp': 1.0, 'Cn': 1.0, 'max_iter': 100, 'eps': 0.1, 'bias': 1.0, 'threads': -1, 'verbose': 0, 'newton_eps': 0.01}}}, 'do_fine_tune': True, 'only_encoder': False, 'fix_clustering': False, 'max_match_clusters': 32768, 'save_emb_dir': None}\n",
      "{'__meta__': {'class_fullname': 'pecos.xmc.xtransformer.model###XTransformer.PredParams'}, 'matcher_params_chain': {'__meta__': {'class_fullname': 'pecos.xmc.xtransformer.matcher###TransformerMatcher.PredParams'}, 'only_topk': 20, 'post_processor': 'noop', 'ensemble_method': 'transformer-only', 'truncate_length': 128}, 'ranker_params': {'__meta__': {'class_fullname': 'pecos.xmc.xlinear.model###XLinearModel.PredParams'}, 'hlm_args': {'__meta__': {'class_fullname': 'pecos.xmc.base###HierarchicalMLModel.PredParams'}, 'model_chain': {'__meta__': {'class_fullname': 'pecos.xmc.base###MLModel.PredParams'}, 'only_topk': 20, 'post_processor': 'l3-hinge'}}}}\n"
     ]
    }
   ],
   "source": [
    "print(train_params.to_dict())\n",
    "print(pred_params.to_dict())"
   ]
  },
  {
   "cell_type": "code",
   "execution_count": 20,
   "id": "fabbef7c",
   "metadata": {
    "execution": {
     "iopub.execute_input": "2021-11-04T17:34:47.785265Z",
     "iopub.status.busy": "2021-11-04T17:34:47.784595Z",
     "iopub.status.idle": "2021-11-04T17:34:47.798466Z",
     "shell.execute_reply": "2021-11-04T17:34:47.797915Z",
     "shell.execute_reply.started": "2021-10-28T14:59:06.350752Z"
    },
    "papermill": {
     "duration": 0.057194,
     "end_time": "2021-11-04T17:34:47.798605",
     "exception": false,
     "start_time": "2021-11-04T17:34:47.741411",
     "status": "completed"
    },
    "tags": []
   },
   "outputs": [],
   "source": [
    "preliminary_indexer_params= dict(#HierarchicalKMeans.TrainParams(\n",
    "    nr_splits=16, \n",
    "    min_codes=None, \n",
    "    max_leaf_size=100, \n",
    "    imbalanced_ratio=0.0, \n",
    "    imbalanced_depth=100, \n",
    "    spherical=True, seed=0, \n",
    "    kmeans_max_iter=20, \n",
    "    threads=-1), \n",
    "refined_indexer_params= dict(#HierarchicalKMeans.TrainParams(\n",
    "    nr_splits=16, \n",
    "    min_codes=None, \n",
    "    max_leaf_size=100, \n",
    "    imbalanced_ratio=0.0, \n",
    "    imbalanced_depth=100, \n",
    "    spherical=True, \n",
    "    seed=0, \n",
    "    kmeans_max_iter=20, \n",
    "    threads=-1), \n",
    "matcher_params_chain= dict(#TransformerMatcher.TrainParams(\n",
    "    model_shortcut='bert-base-cased', \n",
    "    negative_sampling='tfn', \n",
    "    loss_function='squared-hinge', \n",
    "    bootstrap_method='linear', \n",
    "    lr_schedule='linear', \n",
    "    threshold=0.1, \n",
    "    hidden_dropout_prob=0.1, \n",
    "    batch_size=8, \n",
    "    batch_gen_workers=4, \n",
    "    max_active_matching_labels=None, \n",
    "    max_num_labels_in_gpu=65536, \n",
    "    max_steps=0, \n",
    "    max_no_improve_cnt=-1, \n",
    "    num_train_epochs=5, \n",
    "    gradient_accumulation_steps=1, \n",
    "    weight_decay=0, \n",
    "    max_grad_norm=1.0, \n",
    "    learning_rate=0.0001, \n",
    "    adam_epsilon=1e-08, \n",
    "    warmup_steps=0, \n",
    "    logging_steps=50, \n",
    "    save_steps=100, \n",
    "    cost_sensitive_ranker=False, \n",
    "    use_gpu=True, \n",
    "    checkpoint_dir='', \n",
    "    cache_dir='', \n",
    "    init_model_dir='../input/test-xtransformer-saved-model/saved_model'), \n",
    "ranker_params= dict(#XLinearModel.TrainParams(\n",
    "    mode='full-model', \n",
    "    ranker_level=1, \n",
    "    nr_splits=16,\n",
    "    min_codes=None, \n",
    "    shallow=False, \n",
    "    rel_mode='disable', \n",
    "    rel_norm='no-norm', \n",
    "    hlm_args= dict(#HierarchicalMLModel.TrainParams(\n",
    "        neg_mining_chain='tfn',\n",
    "        model_chain= dict(#MLModel.TrainParams(\n",
    "            threshold=0.1, \n",
    "            max_nonzeros_per_label=None, \n",
    "            solver_type='L2R_L2LOSS_SVC_DUAL', \n",
    "            Cp=1.0, \n",
    "            Cn=1.0, \n",
    "            max_iter=100, \n",
    "            eps=0.1, \n",
    "            bias=1.0, \n",
    "            threads=-1, \n",
    "            verbose=0, \n",
    "            newton_eps=0.01))),\n",
    "do_fine_tune=True,\n",
    "only_encoder=False,\n",
    "fix_clustering=False,\n",
    "max_match_clusters=32768,\n",
    "save_emb_dir=None"
   ]
  },
  {
   "cell_type": "code",
   "execution_count": 21,
   "id": "c5ea0c80",
   "metadata": {
    "execution": {
     "iopub.execute_input": "2021-11-04T17:34:47.885076Z",
     "iopub.status.busy": "2021-11-04T17:34:47.884454Z",
     "iopub.status.idle": "2021-11-04T17:49:25.497192Z",
     "shell.execute_reply": "2021-11-04T17:49:25.497774Z",
     "shell.execute_reply.started": "2021-10-28T14:12:21.06654Z"
    },
    "papermill": {
     "duration": 877.659524,
     "end_time": "2021-11-04T17:49:25.497990",
     "exception": false,
     "start_time": "2021-11-04T17:34:47.838466",
     "status": "completed"
    },
    "tags": []
   },
   "outputs": [
    {
     "name": "stderr",
     "output_type": "stream",
     "text": [
      "Some weights of the model checkpoint at ../input/test-xtransformer-saved-model/saved_model/text_encoder were not used when initializing BertForXMC: ['classifier.weight', 'classifier.bias']\n",
      "- This IS expected if you are initializing BertForXMC from the checkpoint of a model trained on another task or with another architecture (e.g. initializing a BertForSequenceClassification model from a BertForPreTraining model).\n",
      "- This IS NOT expected if you are initializing BertForXMC from the checkpoint of a model that you expect to be exactly identical (initializing a BertForSequenceClassification model from a BertForSequenceClassification model).\n",
      "Some weights of the model checkpoint at ../input/test-xtransformer-saved-model/saved_model/text_encoder were not used when initializing BertForXMC: ['classifier.weight', 'classifier.bias']\n",
      "- This IS expected if you are initializing BertForXMC from the checkpoint of a model trained on another task or with another architecture (e.g. initializing a BertForSequenceClassification model from a BertForPreTraining model).\n",
      "- This IS NOT expected if you are initializing BertForXMC from the checkpoint of a model that you expect to be exactly identical (initializing a BertForSequenceClassification model from a BertForSequenceClassification model).\n"
     ]
    },
    {
     "name": "stdout",
     "output_type": "stream",
     "text": [
      "CPU times: user 27min 48s, sys: 54.4 s, total: 28min 42s\n",
      "Wall time: 14min 37s\n"
     ]
    }
   ],
   "source": [
    "%%time\n",
    "xtf = XTransformer.train(\n",
    "    prob,\n",
    "    train_params=train_params,\n",
    "    pred_params=pred_params)\n",
    "xtf.save('XR-Transformer')"
   ]
  },
  {
   "cell_type": "code",
   "execution_count": 22,
   "id": "58e282fe",
   "metadata": {
    "execution": {
     "iopub.execute_input": "2021-11-04T17:49:25.583524Z",
     "iopub.status.busy": "2021-11-04T17:49:25.582976Z",
     "iopub.status.idle": "2021-11-04T17:50:56.727851Z",
     "shell.execute_reply": "2021-11-04T17:50:56.728342Z",
     "shell.execute_reply.started": "2021-10-28T14:27:18.693366Z"
    },
    "papermill": {
     "duration": 91.190577,
     "end_time": "2021-11-04T17:50:56.728506",
     "exception": false,
     "start_time": "2021-11-04T17:49:25.537929",
     "status": "completed"
    },
    "tags": []
   },
   "outputs": [
    {
     "name": "stdout",
     "output_type": "stream",
     "text": [
      "CPU times: user 4min 4s, sys: 8.09 s, total: 4min 13s\n",
      "Wall time: 1min 31s\n"
     ]
    }
   ],
   "source": [
    "%%time\n",
    "xtf = XTransformer.load('XR-Transformer')\n",
    "tmp3 = xtf.predict(X_text_train.tolist(), X_train)\n",
    "tmp4 = xtf.predict(X_text_test.tolist(), X_test)"
   ]
  },
  {
   "cell_type": "code",
   "execution_count": 23,
   "id": "4d9f05cc",
   "metadata": {
    "execution": {
     "iopub.execute_input": "2021-11-04T17:50:56.819277Z",
     "iopub.status.busy": "2021-11-04T17:50:56.818313Z",
     "iopub.status.idle": "2021-11-04T17:51:00.076787Z",
     "shell.execute_reply": "2021-11-04T17:51:00.077357Z",
     "shell.execute_reply.started": "2021-10-27T20:43:48.381424Z"
    },
    "papermill": {
     "duration": 3.307955,
     "end_time": "2021-11-04T17:51:00.077506",
     "exception": false,
     "start_time": "2021-11-04T17:50:56.769551",
     "status": "completed"
    },
    "tags": []
   },
   "outputs": [
    {
     "data": {
      "image/png": "[encoded data removed]",
      "text/plain": [
       "<Figure size 360x576 with 1 Axes>"
      ]
     },
     "metadata": {
      "needs_background": "light"
     },
     "output_type": "display_data"
    }
   ],
   "source": [
    "# Différents scores en fonction du seuil de validation de tag\n",
    "rangeX = np.linspace(0.1,0.9,50)\n",
    "plt.figure(figsize=(5,8))\n",
    "for score, kwargs, title in zip(\n",
    "    [metrics.accuracy_score, metrics.recall_score, metrics.precision_score, metrics.jaccard_score, metrics.f1_score], \n",
    "    [{},{'average':'weighted'},{'average':'weighted'},{'average':'weighted'},{'average':'weighted'}],\n",
    "    ['Fidélité','Rappel','Précision','Jaccard','F1-score']):\n",
    "    \n",
    "    scores_train, scores_test = [], []\n",
    "    for threshold in rangeX:\n",
    "        scores_test.append(score(Y_test, tmp4 > threshold, **kwargs))\n",
    "    plt.plot(rangeX, scores_test, label=title)\n",
    "    \n",
    "plt.title('Test')\n",
    "plt.xlabel('Seuil')\n",
    "plt.ylabel('Score')\n",
    "plt.legend()\n",
    "plt.show()"
   ]
  },
  {
   "cell_type": "code",
   "execution_count": 24,
   "id": "a8dbbb54",
   "metadata": {
    "execution": {
     "iopub.execute_input": "2021-11-04T17:51:00.165898Z",
     "iopub.status.busy": "2021-11-04T17:51:00.165232Z",
     "iopub.status.idle": "2021-11-04T17:51:00.201216Z",
     "shell.execute_reply": "2021-11-04T17:51:00.200616Z",
     "shell.execute_reply.started": "2021-10-28T14:29:29.888042Z"
    },
    "papermill": {
     "duration": 0.082079,
     "end_time": "2021-11-04T17:51:00.201351",
     "exception": false,
     "start_time": "2021-11-04T17:51:00.119272",
     "status": "completed"
    },
    "tags": []
   },
   "outputs": [],
   "source": [
    "threshold = 0.25\n",
    "Y_pred_train = tmp3 > threshold\n",
    "Y_pred_test = tmp4 > threshold"
   ]
  },
  {
   "cell_type": "code",
   "execution_count": 25,
   "id": "8102f823",
   "metadata": {
    "execution": {
     "iopub.execute_input": "2021-11-04T17:51:00.286879Z",
     "iopub.status.busy": "2021-11-04T17:51:00.286291Z",
     "iopub.status.idle": "2021-11-04T17:51:00.458977Z",
     "shell.execute_reply": "2021-11-04T17:51:00.458430Z",
     "shell.execute_reply.started": "2021-10-28T14:29:33.358849Z"
    },
    "papermill": {
     "duration": 0.217019,
     "end_time": "2021-11-04T17:51:00.459106",
     "exception": false,
     "start_time": "2021-11-04T17:51:00.242087",
     "status": "completed"
    },
    "tags": []
   },
   "outputs": [
    {
     "data": {
      "text/html": [
       "<div>\n",
       "<style scoped>\n",
       "    .dataframe tbody tr th:only-of-type {\n",
       "        vertical-align: middle;\n",
       "    }\n",
       "\n",
       "    .dataframe tbody tr th {\n",
       "        vertical-align: top;\n",
       "    }\n",
       "\n",
       "    .dataframe thead th {\n",
       "        text-align: right;\n",
       "    }\n",
       "</style>\n",
       "<table border=\"1\" class=\"dataframe\">\n",
       "  <thead>\n",
       "    <tr style=\"text-align: right;\">\n",
       "      <th></th>\n",
       "      <th>Accuracy</th>\n",
       "      <th>Recall</th>\n",
       "      <th>Precision</th>\n",
       "      <th>F1 score</th>\n",
       "      <th>Jaccard</th>\n",
       "    </tr>\n",
       "  </thead>\n",
       "  <tbody>\n",
       "    <tr>\n",
       "      <th>Train</th>\n",
       "      <td>0.447269</td>\n",
       "      <td>0.735131</td>\n",
       "      <td>0.909705</td>\n",
       "      <td>0.801509</td>\n",
       "      <td>0.686033</td>\n",
       "    </tr>\n",
       "    <tr>\n",
       "      <th>Test</th>\n",
       "      <td>0.150465</td>\n",
       "      <td>0.462262</td>\n",
       "      <td>0.653161</td>\n",
       "      <td>0.524970</td>\n",
       "      <td>0.395873</td>\n",
       "    </tr>\n",
       "  </tbody>\n",
       "</table>\n",
       "</div>"
      ],
      "text/plain": [
       "       Accuracy    Recall  Precision  F1 score   Jaccard\n",
       "Train  0.447269  0.735131   0.909705  0.801509  0.686033\n",
       "Test   0.150465  0.462262   0.653161  0.524970  0.395873"
      ]
     },
     "execution_count": 25,
     "metadata": {},
     "output_type": "execute_result"
    }
   ],
   "source": [
    "xtf_df = df_scores()\n",
    "xtf_df"
   ]
  },
  {
   "cell_type": "code",
   "execution_count": 26,
   "id": "6c11a85c",
   "metadata": {
    "execution": {
     "iopub.execute_input": "2021-11-04T17:51:00.545657Z",
     "iopub.status.busy": "2021-11-04T17:51:00.545053Z",
     "iopub.status.idle": "2021-11-04T17:51:01.729615Z",
     "shell.execute_reply": "2021-11-04T17:51:01.729103Z",
     "shell.execute_reply.started": "2021-10-28T14:38:51.859886Z"
    },
    "papermill": {
     "duration": 1.228868,
     "end_time": "2021-11-04T17:51:01.729777",
     "exception": false,
     "start_time": "2021-11-04T17:51:00.500909",
     "status": "completed"
    },
    "tags": []
   },
   "outputs": [
    {
     "name": "stdout",
     "output_type": "stream",
     "text": [
      "  adding: XR-Transformer/ (stored 0%)\r\n",
      "  adding: XR-Transformer/concat_model/ (stored 0%)\r\n",
      "  adding: XR-Transformer/concat_model/ranker/ (stored 0%)\r\n",
      "  adding: XR-Transformer/concat_model/ranker/0.model/ (stored 0%)\r\n",
      "  adding: XR-Transformer/concat_model/ranker/0.model/W.npz (deflated 38%)\r\n",
      "  adding: XR-Transformer/concat_model/ranker/0.model/C.npz (deflated 73%)\r\n",
      "  adding: XR-Transformer/concat_model/ranker/0.model/param.json (deflated 41%)\r\n",
      "  adding: XR-Transformer/concat_model/ranker/1.model/ (stored 0%)\r\n",
      "  adding: XR-Transformer/concat_model/ranker/1.model/W.npz (deflated 35%)\r\n",
      "  adding: XR-Transformer/concat_model/ranker/1.model/C.npz (deflated 79%)\r\n",
      "  adding: XR-Transformer/concat_model/ranker/1.model/param.json (deflated 41%)\r\n",
      "  adding: XR-Transformer/concat_model/ranker/param.json (deflated 28%)\r\n",
      "  adding: XR-Transformer/concat_model/param.json (deflated 6%)\r\n",
      "  adding: XR-Transformer/text_encoder/ (stored 0%)\r\n",
      "  adding: XR-Transformer/text_encoder/text_tokenizer/ (stored 0%)\r\n",
      "  adding: XR-Transformer/text_encoder/text_tokenizer/special_tokens_map.json (deflated 40%)\r\n",
      "  adding: XR-Transformer/text_encoder/text_tokenizer/vocab.txt (deflated 5%)\r\n",
      "  adding: XR-Transformer/text_encoder/text_tokenizer/tokenizer_config.json (deflated 40%)\r\n",
      "  adding: XR-Transformer/text_encoder/text_encoder/ (stored 0%)\r\n",
      "  adding: XR-Transformer/text_encoder/text_encoder/pytorch_model.bin (deflated 38%)\r\n",
      "  adding: XR-Transformer/text_encoder/text_encoder/config.json (deflated 78%)\r\n",
      "  adding: XR-Transformer/text_encoder/text_model (deflated 14%)\r\n",
      "  adding: XR-Transformer/text_encoder/C.npz (deflated 79%)\r\n",
      "  adding: XR-Transformer/text_encoder/param.json (deflated 56%)\r\n",
      "  adding: XR-Transformer/param.json (deflated 22%)\r\n"
     ]
    }
   ],
   "source": [
    "!zip -r XR-Transformer.zip XR-Transformer"
   ]
  },
  {
   "cell_type": "code",
   "execution_count": 27,
   "id": "934c0e6b",
   "metadata": {
    "execution": {
     "iopub.execute_input": "2021-11-04T17:51:01.823117Z",
     "iopub.status.busy": "2021-11-04T17:51:01.822175Z",
     "iopub.status.idle": "2021-11-04T17:51:02.103348Z",
     "shell.execute_reply": "2021-11-04T17:51:02.102844Z",
     "shell.execute_reply.started": "2021-10-27T20:45:03.095398Z"
    },
    "papermill": {
     "duration": 0.33123,
     "end_time": "2021-11-04T17:51:02.103479",
     "exception": false,
     "start_time": "2021-11-04T17:51:01.772249",
     "status": "completed"
    },
    "tags": []
   },
   "outputs": [
    {
     "data": {
      "image/png": "[encoded data removed]",
      "text/plain": [
       "<Figure size 504x504 with 1 Axes>"
      ]
     },
     "metadata": {
      "needs_background": "light"
     },
     "output_type": "display_data"
    }
   ],
   "source": [
    "pd.concat([xlm_df, xtf_df], keys=['XLM','XTF']).loc[:,'Test',:].plot.bar(figsize=(7,7), rot=0);"
   ]
  },
  {
   "cell_type": "markdown",
   "id": "63bd4673",
   "metadata": {
    "papermill": {
     "duration": 0.041866,
     "end_time": "2021-11-04T17:51:02.188512",
     "exception": false,
     "start_time": "2021-11-04T17:51:02.146646",
     "status": "completed"
    },
    "tags": []
   },
   "source": [
    "## Examples"
   ]
  },
  {
   "cell_type": "code",
   "execution_count": 28,
   "id": "b1d165cc",
   "metadata": {
    "execution": {
     "iopub.execute_input": "2021-11-04T17:51:02.282607Z",
     "iopub.status.busy": "2021-11-04T17:51:02.281583Z",
     "iopub.status.idle": "2021-11-04T17:51:02.314363Z",
     "shell.execute_reply": "2021-11-04T17:51:02.313887Z",
     "shell.execute_reply.started": "2021-11-04T16:28:50.307825Z"
    },
    "papermill": {
     "duration": 0.082998,
     "end_time": "2021-11-04T17:51:02.314488",
     "exception": false,
     "start_time": "2021-11-04T17:51:02.231490",
     "status": "completed"
    },
    "tags": []
   },
   "outputs": [
    {
     "name": "stdout",
     "output_type": "stream",
     "text": [
      "0 True ['assembly' 'x86']\n",
      "0 XRLi []\n",
      "1 True ['exception' 'handling' 'net' 'services' 'vb' 'web']\n",
      "1 XRLi ['exception']\n",
      "2 True ['firefox']\n",
      "2 XRLi ['firefox' 'macos']\n",
      "3 True ['command' 'line' 'linux']\n",
      "3 XRLi ['linux']\n",
      "4 True ['null' 'overloading']\n",
      "4 XRLi ['methods' 'overloading']\n"
     ]
    }
   ],
   "source": [
    "for i in range(5):\n",
    "    print(i, 'True', tfidfY.inverse_transform(Y_test[i])[0])\n",
    "    print(i, 'XRLi', tfidfY.inverse_transform((tmp2 > 0.25)[i])[0])\n",
    "#     print(i, 'XRtr', tfidfY.inverse_transform((tmp4 > 0.25)[i])[0])"
   ]
  },
  {
   "cell_type": "markdown",
   "id": "2fe2b839",
   "metadata": {
    "papermill": {
     "duration": 0.043099,
     "end_time": "2021-11-04T17:51:02.400949",
     "exception": false,
     "start_time": "2021-11-04T17:51:02.357850",
     "status": "completed"
    },
    "tags": []
   },
   "source": [
    "# Autres"
   ]
  },
  {
   "cell_type": "code",
   "execution_count": 29,
   "id": "bfae0491",
   "metadata": {
    "execution": {
     "iopub.execute_input": "2021-11-04T17:51:02.491087Z",
     "iopub.status.busy": "2021-11-04T17:51:02.490545Z",
     "iopub.status.idle": "2021-11-04T17:51:02.493345Z",
     "shell.execute_reply": "2021-11-04T17:51:02.493885Z",
     "shell.execute_reply.started": "2021-11-04T14:18:45.497156Z"
    },
    "papermill": {
     "duration": 0.049266,
     "end_time": "2021-11-04T17:51:02.494043",
     "exception": false,
     "start_time": "2021-11-04T17:51:02.444777",
     "status": "completed"
    },
    "tags": []
   },
   "outputs": [],
   "source": [
    "# from IPython.display import display, HTML\n",
    "# js = ('<script>function ConnectButton(){ '\n",
    "#        'console.log(\"Working\"); '\n",
    "#        'document.querySelector(\"colab-toolbar-button#connect\").click()} '\n",
    "#        'setInterval(ConnectButton,3000);</script>')\n",
    "# display(HTML(js))"
   ]
  },
  {
   "cell_type": "code",
   "execution_count": 30,
   "id": "50cda0f7",
   "metadata": {
    "execution": {
     "iopub.execute_input": "2021-11-04T17:51:02.583096Z",
     "iopub.status.busy": "2021-11-04T17:51:02.582559Z",
     "iopub.status.idle": "2021-11-04T17:51:02.588546Z",
     "shell.execute_reply": "2021-11-04T17:51:02.589107Z",
     "shell.execute_reply.started": "2021-11-04T16:58:57.828794Z"
    },
    "papermill": {
     "duration": 0.051549,
     "end_time": "2021-11-04T17:51:02.589251",
     "exception": false,
     "start_time": "2021-11-04T17:51:02.537702",
     "status": "completed"
    },
    "tags": []
   },
   "outputs": [],
   "source": [
    "from IPython.display import display\n",
    "import ipywidgets, threading, time\n",
    "\n",
    "def pause():\n",
    "    def work(waiting_button):\n",
    "        while waiting_button.value:\n",
    "            time.sleep(2)\n",
    "            elapsed.value += 2\n",
    "            \n",
    "#     def start_stop():\n",
    "#         if waiting_button.value:\n",
    "#             thread.start()\n",
    "#         else:\n",
    "#             thread.stopped = True\n",
    "            \n",
    "    waiting_button = ipywidgets.Checkbox(value=True, description='Waiting', indent=False)\n",
    "    elapsed = ipywidgets.IntText(value=0, description='Elapsed time:')\n",
    "    thread = threading.Thread(target=work, args=(waiting_button,))\n",
    "    thread.start()\n",
    "#     waiting_button.observe(start_stop, names='value')\n",
    "    return ipywidgets.HBox([waiting_button, elapsed])"
   ]
  },
  {
   "cell_type": "code",
   "execution_count": 31,
   "id": "75d1816e",
   "metadata": {
    "execution": {
     "iopub.execute_input": "2021-11-04T17:51:02.679184Z",
     "iopub.status.busy": "2021-11-04T17:51:02.678594Z",
     "iopub.status.idle": "2021-11-04T17:51:02.682607Z",
     "shell.execute_reply": "2021-11-04T17:51:02.682195Z",
     "shell.execute_reply.started": "2021-11-04T16:59:56.466517Z"
    },
    "papermill": {
     "duration": 0.049613,
     "end_time": "2021-11-04T17:51:02.682739",
     "exception": false,
     "start_time": "2021-11-04T17:51:02.633126",
     "status": "completed"
    },
    "tags": []
   },
   "outputs": [],
   "source": [
    "# pause()"
   ]
  }
 ],
 "metadata": {
  "kernelspec": {
   "display_name": "Python 3",
   "language": "python",
   "name": "python3"
  },
  "language_info": {
   "codemirror_mode": {
    "name": "ipython",
    "version": 3
   },
   "file_extension": ".py",
   "mimetype": "text/x-python",
   "name": "python",
   "nbconvert_exporter": "python",
   "pygments_lexer": "ipython3",
   "version": "3.7.10"
  },
  "papermill": {
   "default_parameters": {},
   "duration": 1600.315791,
   "end_time": "2021-11-04T17:51:05.816195",
   "environment_variables": {},
   "exception": null,
   "input_path": "__notebook__.ipynb",
   "output_path": "__notebook__.ipynb",
   "parameters": {},
   "start_time": "2021-11-04T17:24:25.500404",
   "version": "2.3.3"
  }
 },
 "nbformat": 4,
 "nbformat_minor": 5
}
