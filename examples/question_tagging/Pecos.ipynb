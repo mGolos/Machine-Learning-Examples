{
 "cells": [
  {
   "cell_type": "markdown",
   "id": "b13298f1",
   "metadata": {
    "papermill": {
     "duration": 0.017902,
     "end_time": "2021-10-28T15:00:45.150634",
     "exception": false,
     "start_time": "2021-10-28T15:00:45.132732",
     "status": "completed"
    },
    "tags": []
   },
   "source": [
    "# Librairies"
   ]
  },
  {
   "cell_type": "code",
   "execution_count": 1,
   "id": "6a448902",
   "metadata": {
    "execution": {
     "iopub.execute_input": "2021-10-28T15:00:45.194262Z",
     "iopub.status.busy": "2021-10-28T15:00:45.193581Z",
     "iopub.status.idle": "2021-10-28T15:01:21.155213Z",
     "shell.execute_reply": "2021-10-28T15:01:21.154472Z",
     "shell.execute_reply.started": "2021-10-28T14:10:25.834846Z"
    },
    "papermill": {
     "duration": 35.987722,
     "end_time": "2021-10-28T15:01:21.155418",
     "exception": false,
     "start_time": "2021-10-28T15:00:45.167696",
     "status": "completed"
    },
    "tags": []
   },
   "outputs": [
    {
     "name": "stdout",
     "output_type": "stream",
     "text": [
      "\u001b[33mWARNING: Running pip as the 'root' user can result in broken permissions and conflicting behaviour with the system package manager. It is recommended to use a virtual environment instead: https://pip.pypa.io/warnings/venv\u001b[0m\r\n",
      "Collecting pytest-runner\r\n",
      "  Downloading pytest_runner-5.3.1-py3-none-any.whl (7.1 kB)\r\n",
      "Installing collected packages: pytest-runner\r\n",
      "Successfully installed pytest-runner-5.3.1\r\n",
      "\u001b[33mWARNING: Running pip as the 'root' user can result in broken permissions and conflicting behaviour with the system package manager. It is recommended to use a virtual environment instead: https://pip.pypa.io/warnings/venv\u001b[0m\r\n",
      "\u001b[31mERROR: pip's dependency resolver does not currently take into account all the packages that are installed. This behaviour is the source of the following dependency conflicts.\r\n",
      "pdpbox 0.2.1 requires matplotlib==3.1.1, but you have matplotlib 3.4.3 which is incompatible.\r\n",
      "hypertools 0.7.0 requires scikit-learn!=0.22,<0.24,>=0.19.1, but you have scikit-learn 1.0.1 which is incompatible.\u001b[0m\r\n",
      "\u001b[33mWARNING: Running pip as the 'root' user can result in broken permissions and conflicting behaviour with the system package manager. It is recommended to use a virtual environment instead: https://pip.pypa.io/warnings/venv\u001b[0m\r\n"
     ]
    }
   ],
   "source": [
    "! pip install scikit-learn>=0.24.2\n",
    "! pip install pytest-runner\n",
    "! pip install libpecos>=0.2.0"
   ]
  },
  {
   "cell_type": "code",
   "execution_count": 2,
   "id": "b002ddfc",
   "metadata": {
    "execution": {
     "iopub.execute_input": "2021-10-28T15:01:21.196022Z",
     "iopub.status.busy": "2021-10-28T15:01:21.194988Z",
     "iopub.status.idle": "2021-10-28T15:01:22.050046Z",
     "shell.execute_reply": "2021-10-28T15:01:22.049380Z",
     "shell.execute_reply.started": "2021-10-28T14:11:01.150104Z"
    },
    "papermill": {
     "duration": 0.876597,
     "end_time": "2021-10-28T15:01:22.050211",
     "exception": false,
     "start_time": "2021-10-28T15:01:21.173614",
     "status": "completed"
    },
    "tags": []
   },
   "outputs": [],
   "source": [
    "import pandas as pd\n",
    "import numpy as np\n",
    "import matplotlib.pyplot as plt\n",
    "from sklearn import feature_extraction, model_selection, metrics\n",
    "import warnings\n",
    "warnings.filterwarnings(\"ignore\")"
   ]
  },
  {
   "cell_type": "markdown",
   "id": "4bbfc25a",
   "metadata": {
    "papermill": {
     "duration": 0.017658,
     "end_time": "2021-10-28T15:01:22.086827",
     "exception": false,
     "start_time": "2021-10-28T15:01:22.069169",
     "status": "completed"
    },
    "tags": []
   },
   "source": [
    "# Chargement des données"
   ]
  },
  {
   "cell_type": "code",
   "execution_count": 3,
   "id": "0761b098",
   "metadata": {
    "execution": {
     "iopub.execute_input": "2021-10-28T15:01:22.127634Z",
     "iopub.status.busy": "2021-10-28T15:01:22.126998Z",
     "iopub.status.idle": "2021-10-28T15:01:22.641163Z",
     "shell.execute_reply": "2021-10-28T15:01:22.641619Z",
     "shell.execute_reply.started": "2021-10-28T14:11:01.940302Z"
    },
    "papermill": {
     "duration": 0.537104,
     "end_time": "2021-10-28T15:01:22.641847",
     "exception": false,
     "start_time": "2021-10-28T15:01:22.104743",
     "status": "completed"
    },
    "tags": []
   },
   "outputs": [
    {
     "data": {
      "text/html": [
       "<div>\n",
       "<style scoped>\n",
       "    .dataframe tbody tr th:only-of-type {\n",
       "        vertical-align: middle;\n",
       "    }\n",
       "\n",
       "    .dataframe tbody tr th {\n",
       "        vertical-align: top;\n",
       "    }\n",
       "\n",
       "    .dataframe thead th {\n",
       "        text-align: right;\n",
       "    }\n",
       "</style>\n",
       "<table border=\"1\" class=\"dataframe\">\n",
       "  <thead>\n",
       "    <tr style=\"text-align: right;\">\n",
       "      <th></th>\n",
       "      <th>X</th>\n",
       "      <th>Y</th>\n",
       "    </tr>\n",
       "  </thead>\n",
       "  <tbody>\n",
       "    <tr>\n",
       "      <th>0</th>\n",
       "      <td>convert decim c# convert decim c# use chang fo...</td>\n",
       "      <td>c# floating-point type-conversion double decimal</td>\n",
       "    </tr>\n",
       "    <tr>\n",
       "      <th>1</th>\n",
       "      <td>width collaps percentag width child element ab...</td>\n",
       "      <td>html css internet-explorer-7</td>\n",
       "    </tr>\n",
       "    <tr>\n",
       "      <th>2</th>\n",
       "      <td>calcul someon age base type birthday calcul so...</td>\n",
       "      <td>c# .net datetime</td>\n",
       "    </tr>\n",
       "    <tr>\n",
       "      <th>3</th>\n",
       "      <td>calcul time c# calcul time c# given datetim va...</td>\n",
       "      <td>c# datetime time</td>\n",
       "    </tr>\n",
       "    <tr>\n",
       "      <th>4</th>\n",
       "      <td>determin user timezon determin user timezon wa...</td>\n",
       "      <td>html browser timezone</td>\n",
       "    </tr>\n",
       "    <tr>\n",
       "      <th>...</th>\n",
       "      <td>...</td>\n",
       "      <td>...</td>\n",
       "    </tr>\n",
       "    <tr>\n",
       "      <th>49506</th>\n",
       "      <td>git submodul way work copi within work copi gi...</td>\n",
       "      <td>git</td>\n",
       "    </tr>\n",
       "    <tr>\n",
       "      <th>49507</th>\n",
       "      <td>sizeof bit bit data model sizeof bit bit data ...</td>\n",
       "      <td>c 64-bit sizeof</td>\n",
       "    </tr>\n",
       "    <tr>\n",
       "      <th>49508</th>\n",
       "      <td>use jqueri chang html tag use jqueri chang htm...</td>\n",
       "      <td>jquery</td>\n",
       "    </tr>\n",
       "    <tr>\n",
       "      <th>49509</th>\n",
       "      <td>differ express modifi flag differ express modi...</td>\n",
       "      <td>regex</td>\n",
       "    </tr>\n",
       "    <tr>\n",
       "      <th>49510</th>\n",
       "      <td>lookup zipcod gps coordin lookup zipcod gps co...</td>\n",
       "      <td>iphone gps</td>\n",
       "    </tr>\n",
       "  </tbody>\n",
       "</table>\n",
       "<p>49511 rows × 2 columns</p>\n",
       "</div>"
      ],
      "text/plain": [
       "                                                       X  \\\n",
       "0      convert decim c# convert decim c# use chang fo...   \n",
       "1      width collaps percentag width child element ab...   \n",
       "2      calcul someon age base type birthday calcul so...   \n",
       "3      calcul time c# calcul time c# given datetim va...   \n",
       "4      determin user timezon determin user timezon wa...   \n",
       "...                                                  ...   \n",
       "49506  git submodul way work copi within work copi gi...   \n",
       "49507  sizeof bit bit data model sizeof bit bit data ...   \n",
       "49508  use jqueri chang html tag use jqueri chang htm...   \n",
       "49509  differ express modifi flag differ express modi...   \n",
       "49510  lookup zipcod gps coordin lookup zipcod gps co...   \n",
       "\n",
       "                                                      Y  \n",
       "0      c# floating-point type-conversion double decimal  \n",
       "1                          html css internet-explorer-7  \n",
       "2                                      c# .net datetime  \n",
       "3                                      c# datetime time  \n",
       "4                                 html browser timezone  \n",
       "...                                                 ...  \n",
       "49506                                               git  \n",
       "49507                                   c 64-bit sizeof  \n",
       "49508                                            jquery  \n",
       "49509                                             regex  \n",
       "49510                                        iphone gps  \n",
       "\n",
       "[49511 rows x 2 columns]"
      ]
     },
     "execution_count": 3,
     "metadata": {},
     "output_type": "execute_result"
    }
   ],
   "source": [
    "df = pd.read_csv('../input/stackoverflow-questions-tags/questions_tags_cleaned.csv')\n",
    "df"
   ]
  },
  {
   "cell_type": "markdown",
   "id": "277f0f01",
   "metadata": {
    "papermill": {
     "duration": 0.017961,
     "end_time": "2021-10-28T15:01:22.678607",
     "exception": false,
     "start_time": "2021-10-28T15:01:22.660646",
     "status": "completed"
    },
    "tags": []
   },
   "source": [
    "# Modélisation\n",
    "The eXtreme Multi-label Ranking (XMR) problem is defined by two matrices\n",
    "* instance-to-feature matrix X, of shape N by D in SciPy CSR format\n",
    "* instance-to-label matrix Y, of shape N by L in SciPy CSR format"
   ]
  },
  {
   "cell_type": "code",
   "execution_count": 4,
   "id": "e97f3877",
   "metadata": {
    "execution": {
     "iopub.execute_input": "2021-10-28T15:01:22.723653Z",
     "iopub.status.busy": "2021-10-28T15:01:22.722965Z",
     "iopub.status.idle": "2021-10-28T15:01:22.725415Z",
     "shell.execute_reply": "2021-10-28T15:01:22.724979Z",
     "shell.execute_reply.started": "2021-10-28T14:11:02.435706Z"
    },
    "papermill": {
     "duration": 0.028772,
     "end_time": "2021-10-28T15:01:22.725573",
     "exception": false,
     "start_time": "2021-10-28T15:01:22.696801",
     "status": "completed"
    },
    "tags": []
   },
   "outputs": [],
   "source": [
    "def df_scores():\n",
    "    import warnings\n",
    "    warnings.filterwarnings(\"ignore\")\n",
    "    scores = {\n",
    "        'Train': {\n",
    "            'Accuracy' :  metrics.accuracy_score(Y_train, Y_pred_train),\n",
    "            'Recall' :    metrics.recall_score(Y_train, Y_pred_train, average='weighted'),\n",
    "            'Precision' : metrics.precision_score(Y_train, Y_pred_train, average='weighted'),\n",
    "            'F1 score' :  metrics.f1_score(Y_train, Y_pred_train, average='weighted'),\n",
    "            'Jaccard' :   metrics.jaccard_score(Y_train, Y_pred_train, average='weighted')},\n",
    "        'Test': {\n",
    "            'Accuracy' :  metrics.accuracy_score(Y_test, Y_pred_test),\n",
    "            'Recall' :    metrics.recall_score(Y_test, Y_pred_test, average='weighted'),\n",
    "            'Precision' : metrics.precision_score(Y_test, Y_pred_test, average='weighted'),\n",
    "            'F1 score' :  metrics.f1_score(Y_test, Y_pred_test, average='weighted'),\n",
    "            'Jaccard' :   metrics.jaccard_score(Y_test, Y_pred_test, average='weighted')}}\n",
    "    return pd.DataFrame.from_dict(scores).T"
   ]
  },
  {
   "cell_type": "code",
   "execution_count": 5,
   "id": "9b79cdb4",
   "metadata": {
    "execution": {
     "iopub.execute_input": "2021-10-28T15:01:22.802183Z",
     "iopub.status.busy": "2021-10-28T15:01:22.786551Z",
     "iopub.status.idle": "2021-10-28T15:01:25.051527Z",
     "shell.execute_reply": "2021-10-28T15:01:25.050823Z",
     "shell.execute_reply.started": "2021-10-28T14:11:02.444908Z"
    },
    "papermill": {
     "duration": 2.307772,
     "end_time": "2021-10-28T15:01:25.051678",
     "exception": false,
     "start_time": "2021-10-28T15:01:22.743906",
     "status": "completed"
    },
    "tags": []
   },
   "outputs": [],
   "source": [
    "tfidfX = feature_extraction.text.TfidfVectorizer()\n",
    "tfidfY = feature_extraction.text.TfidfVectorizer()\n",
    "X_text = df['X'].values\n",
    "X = tfidfX.fit_transform(df['X'].values).astype(np.float32)\n",
    "Y = tfidfY.fit_transform(df['Y'].values).astype(np.float32)\n",
    "Y[Y!=0] = 1\n",
    "X_text_train, X_text_test, X_train, X_test, Y_train, Y_test = model_selection.train_test_split(X_text, X, Y, test_size=0.3, random_state=37)"
   ]
  },
  {
   "cell_type": "code",
   "execution_count": 6,
   "id": "81ccd611",
   "metadata": {
    "execution": {
     "iopub.execute_input": "2021-10-28T15:01:25.094180Z",
     "iopub.status.busy": "2021-10-28T15:01:25.093454Z",
     "iopub.status.idle": "2021-10-28T15:01:25.104441Z",
     "shell.execute_reply": "2021-10-28T15:01:25.104974Z",
     "shell.execute_reply.started": "2021-10-28T14:11:04.652981Z"
    },
    "papermill": {
     "duration": 0.035069,
     "end_time": "2021-10-28T15:01:25.105179",
     "exception": false,
     "start_time": "2021-10-28T15:01:25.070110",
     "status": "completed"
    },
    "tags": []
   },
   "outputs": [
    {
     "name": "stdout",
     "output_type": "stream",
     "text": [
      "Sparsité de X : 0.365% ; Dimensions (49511, 8556)\n",
      "Sparsité de Y : 0.205% ; Dimensions (49511, 1395)\n"
     ]
    }
   ],
   "source": [
    "print(f\"Sparsité de X : {X.count_nonzero() / X.shape[0] / X.shape[1] *100:.3f}% ; Dimensions {X.shape}\")\n",
    "print(f\"Sparsité de Y : {Y.count_nonzero() / Y.shape[0] / Y.shape[1] *100:.3f}% ; Dimensions {Y.shape}\")"
   ]
  },
  {
   "cell_type": "markdown",
   "id": "46e1efae",
   "metadata": {
    "execution": {
     "iopub.execute_input": "2021-10-19T23:30:38.52822Z",
     "iopub.status.busy": "2021-10-19T23:30:38.527923Z",
     "iopub.status.idle": "2021-10-19T23:30:38.53485Z",
     "shell.execute_reply": "2021-10-19T23:30:38.534041Z",
     "shell.execute_reply.started": "2021-10-19T23:30:38.528187Z"
    },
    "papermill": {
     "duration": 0.018138,
     "end_time": "2021-10-28T15:01:25.142872",
     "exception": false,
     "start_time": "2021-10-28T15:01:25.124734",
     "status": "completed"
    },
    "tags": []
   },
   "source": [
    "## XR-Linear"
   ]
  },
  {
   "cell_type": "code",
   "execution_count": 7,
   "id": "6d2948dc",
   "metadata": {
    "execution": {
     "iopub.execute_input": "2021-10-28T15:01:25.183635Z",
     "iopub.status.busy": "2021-10-28T15:01:25.182889Z",
     "iopub.status.idle": "2021-10-28T15:01:51.069057Z",
     "shell.execute_reply": "2021-10-28T15:01:51.069760Z",
     "shell.execute_reply.started": "2021-10-28T14:11:04.669418Z"
    },
    "papermill": {
     "duration": 25.908707,
     "end_time": "2021-10-28T15:01:51.070076",
     "exception": false,
     "start_time": "2021-10-28T15:01:25.161369",
     "status": "completed"
    },
    "tags": []
   },
   "outputs": [
    {
     "name": "stdout",
     "output_type": "stream",
     "text": [
      "CPU times: user 1min 40s, sys: 88 ms, total: 1min 41s\n",
      "Wall time: 25.9 s\n"
     ]
    }
   ],
   "source": [
    "%%time\n",
    "from pecos.xmc.xlinear.model import XLinearModel\n",
    "# label_feat = LabelEmbeddingFactory.create(Y_train, X_train)\n",
    "# cluster_chain = Indexer.gen(label_feat)\n",
    "xlm = XLinearModel.train(X_train, Y_train)  # , C=cluster_chain)\n",
    "xlm.save(\"XR-Linear\")\n",
    "xlm = XLinearModel.load(\"XR-Linear\", is_predict_only=False)"
   ]
  },
  {
   "cell_type": "code",
   "execution_count": 8,
   "id": "c2b4d8ea",
   "metadata": {
    "execution": {
     "iopub.execute_input": "2021-10-28T15:01:51.115552Z",
     "iopub.status.busy": "2021-10-28T15:01:51.114845Z",
     "iopub.status.idle": "2021-10-28T15:02:40.919940Z",
     "shell.execute_reply": "2021-10-28T15:02:40.920450Z",
     "shell.execute_reply.started": "2021-10-28T14:11:26.910301Z"
    },
    "papermill": {
     "duration": 49.830474,
     "end_time": "2021-10-28T15:02:40.920655",
     "exception": false,
     "start_time": "2021-10-28T15:01:51.090181",
     "status": "completed"
    },
    "tags": []
   },
   "outputs": [
    {
     "name": "stdout",
     "output_type": "stream",
     "text": [
      "CPU times: user 2min 55s, sys: 3.03 s, total: 2min 58s\n",
      "Wall time: 49.8 s\n"
     ]
    }
   ],
   "source": [
    "%%time\n",
    "tmp1 = xlm.predict(X_train)\n",
    "tmp2 = xlm.predict(X_test)"
   ]
  },
  {
   "cell_type": "code",
   "execution_count": 9,
   "id": "8aabe0d2",
   "metadata": {
    "execution": {
     "iopub.execute_input": "2021-10-28T15:02:40.969194Z",
     "iopub.status.busy": "2021-10-28T15:02:40.968243Z",
     "iopub.status.idle": "2021-10-28T15:02:44.582270Z",
     "shell.execute_reply": "2021-10-28T15:02:44.582689Z",
     "shell.execute_reply.started": "2021-10-27T20:44:59.557017Z"
    },
    "papermill": {
     "duration": 3.643536,
     "end_time": "2021-10-28T15:02:44.582910",
     "exception": false,
     "start_time": "2021-10-28T15:02:40.939374",
     "status": "completed"
    },
    "tags": []
   },
   "outputs": [
    {
     "data": {
      "image/png": "[encoded data removed]",
      "text/plain": [
       "<Figure size 360x576 with 1 Axes>"
      ]
     },
     "metadata": {
      "needs_background": "light"
     },
     "output_type": "display_data"
    }
   ],
   "source": [
    "# Différents scores en fonction du seuil de validation de tag\n",
    "rangeX = np.linspace(0.1,0.9,50)\n",
    "plt.figure(figsize=(5,8))\n",
    "for score, kwargs, title in zip(\n",
    "    [metrics.accuracy_score, metrics.recall_score, metrics.precision_score, metrics.jaccard_score, metrics.f1_score], \n",
    "    [{},{'average':'weighted'},{'average':'weighted'},{'average':'weighted'},{'average':'weighted'}],\n",
    "    ['Fidélité','Rappel','Précision','Jaccard','F1-score']):\n",
    "    \n",
    "    scores_train, scores_test = [], []\n",
    "    for threshold in rangeX:\n",
    "        scores_test.append(score(Y_test, tmp2 > threshold, **kwargs))\n",
    "    plt.plot(rangeX, scores_test, label=title)\n",
    "    \n",
    "plt.title('Test')\n",
    "plt.xlabel('Seuil')\n",
    "plt.ylabel('Score')\n",
    "plt.legend()\n",
    "plt.show()"
   ]
  },
  {
   "cell_type": "code",
   "execution_count": 10,
   "id": "edfc1a91",
   "metadata": {
    "execution": {
     "iopub.execute_input": "2021-10-28T15:02:44.628730Z",
     "iopub.status.busy": "2021-10-28T15:02:44.627056Z",
     "iopub.status.idle": "2021-10-28T15:02:44.668165Z",
     "shell.execute_reply": "2021-10-28T15:02:44.667574Z",
     "shell.execute_reply.started": "2021-10-28T14:12:14.724559Z"
    },
    "papermill": {
     "duration": 0.064854,
     "end_time": "2021-10-28T15:02:44.668338",
     "exception": false,
     "start_time": "2021-10-28T15:02:44.603484",
     "status": "completed"
    },
    "tags": []
   },
   "outputs": [],
   "source": [
    "threshold = 0.25\n",
    "Y_pred_train = tmp1 > threshold\n",
    "Y_pred_test = tmp2 > threshold"
   ]
  },
  {
   "cell_type": "code",
   "execution_count": 11,
   "id": "644c35d1",
   "metadata": {
    "execution": {
     "iopub.execute_input": "2021-10-28T15:02:44.714880Z",
     "iopub.status.busy": "2021-10-28T15:02:44.714088Z",
     "iopub.status.idle": "2021-10-28T15:02:44.894950Z",
     "shell.execute_reply": "2021-10-28T15:02:44.894183Z",
     "shell.execute_reply.started": "2021-10-28T14:12:14.777837Z"
    },
    "papermill": {
     "duration": 0.206442,
     "end_time": "2021-10-28T15:02:44.895136",
     "exception": false,
     "start_time": "2021-10-28T15:02:44.688694",
     "status": "completed"
    },
    "tags": []
   },
   "outputs": [
    {
     "data": {
      "text/html": [
       "<div>\n",
       "<style scoped>\n",
       "    .dataframe tbody tr th:only-of-type {\n",
       "        vertical-align: middle;\n",
       "    }\n",
       "\n",
       "    .dataframe tbody tr th {\n",
       "        vertical-align: top;\n",
       "    }\n",
       "\n",
       "    .dataframe thead th {\n",
       "        text-align: right;\n",
       "    }\n",
       "</style>\n",
       "<table border=\"1\" class=\"dataframe\">\n",
       "  <thead>\n",
       "    <tr style=\"text-align: right;\">\n",
       "      <th></th>\n",
       "      <th>Accuracy</th>\n",
       "      <th>Recall</th>\n",
       "      <th>Precision</th>\n",
       "      <th>F1 score</th>\n",
       "      <th>Jaccard</th>\n",
       "    </tr>\n",
       "  </thead>\n",
       "  <tbody>\n",
       "    <tr>\n",
       "      <th>Train</th>\n",
       "      <td>0.589693</td>\n",
       "      <td>0.818641</td>\n",
       "      <td>0.953814</td>\n",
       "      <td>0.874898</td>\n",
       "      <td>0.788449</td>\n",
       "    </tr>\n",
       "    <tr>\n",
       "      <th>Test</th>\n",
       "      <td>0.159890</td>\n",
       "      <td>0.458922</td>\n",
       "      <td>0.676425</td>\n",
       "      <td>0.528346</td>\n",
       "      <td>0.400434</td>\n",
       "    </tr>\n",
       "  </tbody>\n",
       "</table>\n",
       "</div>"
      ],
      "text/plain": [
       "       Accuracy    Recall  Precision  F1 score   Jaccard\n",
       "Train  0.589693  0.818641   0.953814  0.874898  0.788449\n",
       "Test   0.159890  0.458922   0.676425  0.528346  0.400434"
      ]
     },
     "execution_count": 11,
     "metadata": {},
     "output_type": "execute_result"
    }
   ],
   "source": [
    "xlm_df = df_scores()\n",
    "xlm_df"
   ]
  },
  {
   "cell_type": "code",
   "execution_count": 12,
   "id": "048a8bec",
   "metadata": {
    "execution": {
     "iopub.execute_input": "2021-10-28T15:02:44.941768Z",
     "iopub.status.busy": "2021-10-28T15:02:44.940327Z",
     "iopub.status.idle": "2021-10-28T15:02:46.188690Z",
     "shell.execute_reply": "2021-10-28T15:02:46.189262Z",
     "shell.execute_reply.started": "2021-10-28T14:39:29.098003Z"
    },
    "papermill": {
     "duration": 1.273013,
     "end_time": "2021-10-28T15:02:46.189473",
     "exception": false,
     "start_time": "2021-10-28T15:02:44.916460",
     "status": "completed"
    },
    "tags": []
   },
   "outputs": [
    {
     "name": "stdout",
     "output_type": "stream",
     "text": [
      "  adding: XR-Linear/ (stored 0%)\r\n",
      "  adding: XR-Linear/param.json (deflated 6%)\r\n",
      "  adding: XR-Linear/ranker/ (stored 0%)\r\n",
      "  adding: XR-Linear/ranker/0.model/ (stored 0%)\r\n",
      "  adding: XR-Linear/ranker/0.model/W.npz (deflated 35%)\r\n",
      "  adding: XR-Linear/ranker/0.model/param.json (deflated 42%)\r\n",
      "  adding: XR-Linear/ranker/0.model/C.npz (deflated 80%)\r\n",
      "  adding: XR-Linear/ranker/param.json (deflated 28%)\r\n"
     ]
    }
   ],
   "source": [
    "!zip -r XR-Linear.zip XR-Linear"
   ]
  },
  {
   "cell_type": "markdown",
   "id": "a5bfc403",
   "metadata": {
    "execution": {
     "iopub.execute_input": "2021-10-19T23:30:38.52822Z",
     "iopub.status.busy": "2021-10-19T23:30:38.527923Z",
     "iopub.status.idle": "2021-10-19T23:30:38.53485Z",
     "shell.execute_reply": "2021-10-19T23:30:38.534041Z",
     "shell.execute_reply.started": "2021-10-19T23:30:38.528187Z"
    },
    "papermill": {
     "duration": 0.021574,
     "end_time": "2021-10-28T15:02:46.232142",
     "exception": false,
     "start_time": "2021-10-28T15:02:46.210568",
     "status": "completed"
    },
    "tags": []
   },
   "source": [
    "## XR-Transformer"
   ]
  },
  {
   "cell_type": "code",
   "execution_count": 13,
   "id": "0c35b221",
   "metadata": {
    "execution": {
     "iopub.execute_input": "2021-10-28T15:02:46.281742Z",
     "iopub.status.busy": "2021-10-28T15:02:46.281046Z",
     "iopub.status.idle": "2021-10-28T15:02:53.155926Z",
     "shell.execute_reply": "2021-10-28T15:02:53.155229Z",
     "shell.execute_reply.started": "2021-10-28T14:12:14.955443Z"
    },
    "papermill": {
     "duration": 6.902811,
     "end_time": "2021-10-28T15:02:53.156084",
     "exception": false,
     "start_time": "2021-10-28T15:02:46.253273",
     "status": "completed"
    },
    "tags": []
   },
   "outputs": [],
   "source": [
    "from pecos.xmc.xtransformer.model import XTransformer\n",
    "from pecos.xmc.xtransformer.module import MLProblemWithText\n",
    "prob = MLProblemWithText(X_text_train.tolist(), Y_train, X_feat=X_train)\n",
    "train_params = XTransformer.TrainParams.from_dict({}, recursive=True)\n",
    "train_params.matcher_params_chain.init_model_dir = \"../input/test-xtransformer-saved-model/saved_model\"\n",
    "pred_params = XTransformer.PredParams.from_dict({}, recursive=True)"
   ]
  },
  {
   "cell_type": "code",
   "execution_count": 14,
   "id": "b30c7140",
   "metadata": {
    "execution": {
     "iopub.execute_input": "2021-10-28T15:02:53.205797Z",
     "iopub.status.busy": "2021-10-28T15:02:53.205122Z",
     "iopub.status.idle": "2021-10-28T15:02:53.208849Z",
     "shell.execute_reply": "2021-10-28T15:02:53.208107Z",
     "shell.execute_reply.started": "2021-10-28T14:12:21.059263Z"
    },
    "papermill": {
     "duration": 0.031716,
     "end_time": "2021-10-28T15:02:53.209064",
     "exception": false,
     "start_time": "2021-10-28T15:02:53.177348",
     "status": "completed"
    },
    "tags": []
   },
   "outputs": [
    {
     "name": "stdout",
     "output_type": "stream",
     "text": [
      "{'__meta__': {'class_fullname': 'pecos.xmc.xtransformer.model###XTransformer.TrainParams'}, 'preliminary_indexer_params': {'__meta__': {'class_fullname': 'pecos.xmc.base###HierarchicalKMeans.TrainParams'}, 'nr_splits': 16, 'min_codes': None, 'max_leaf_size': 100, 'imbalanced_ratio': 0.0, 'imbalanced_depth': 100, 'spherical': True, 'seed': 0, 'kmeans_max_iter': 20, 'threads': -1}, 'refined_indexer_params': {'__meta__': {'class_fullname': 'pecos.xmc.base###HierarchicalKMeans.TrainParams'}, 'nr_splits': 16, 'min_codes': None, 'max_leaf_size': 100, 'imbalanced_ratio': 0.0, 'imbalanced_depth': 100, 'spherical': True, 'seed': 0, 'kmeans_max_iter': 20, 'threads': -1}, 'matcher_params_chain': {'__meta__': {'class_fullname': 'pecos.xmc.xtransformer.matcher###TransformerMatcher.TrainParams'}, 'model_shortcut': 'bert-base-cased', 'negative_sampling': 'tfn', 'loss_function': 'squared-hinge', 'bootstrap_method': 'linear', 'lr_schedule': 'linear', 'threshold': 0.1, 'hidden_dropout_prob': 0.1, 'batch_size': 8, 'batch_gen_workers': 4, 'max_active_matching_labels': None, 'max_num_labels_in_gpu': 65536, 'max_steps': 0, 'max_no_improve_cnt': -1, 'num_train_epochs': 5, 'gradient_accumulation_steps': 1, 'weight_decay': 0, 'max_grad_norm': 1.0, 'learning_rate': 0.0001, 'adam_epsilon': 1e-08, 'warmup_steps': 0, 'logging_steps': 50, 'save_steps': 100, 'cost_sensitive_ranker': False, 'use_gpu': True, 'checkpoint_dir': '', 'cache_dir': '', 'init_model_dir': '../input/test-xtransformer-saved-model/saved_model'}, 'ranker_params': {'__meta__': {'class_fullname': 'pecos.xmc.xlinear.model###XLinearModel.TrainParams'}, 'mode': 'full-model', 'ranker_level': 1, 'nr_splits': 16, 'min_codes': None, 'shallow': False, 'rel_mode': 'disable', 'rel_norm': 'no-norm', 'hlm_args': {'__meta__': {'class_fullname': 'pecos.xmc.base###HierarchicalMLModel.TrainParams'}, 'neg_mining_chain': 'tfn', 'model_chain': {'__meta__': {'class_fullname': 'pecos.xmc.base###MLModel.TrainParams'}, 'threshold': 0.1, 'max_nonzeros_per_label': None, 'solver_type': 'L2R_L2LOSS_SVC_DUAL', 'Cp': 1.0, 'Cn': 1.0, 'max_iter': 100, 'eps': 0.1, 'bias': 1.0, 'threads': -1, 'verbose': 0, 'newton_eps': 0.01}}}, 'do_fine_tune': True, 'only_encoder': False, 'fix_clustering': False, 'max_match_clusters': 32768, 'save_emb_dir': None}\n",
      "{'__meta__': {'class_fullname': 'pecos.xmc.xtransformer.model###XTransformer.PredParams'}, 'matcher_params_chain': {'__meta__': {'class_fullname': 'pecos.xmc.xtransformer.matcher###TransformerMatcher.PredParams'}, 'only_topk': 20, 'post_processor': 'noop', 'ensemble_method': 'transformer-only', 'truncate_length': 128}, 'ranker_params': {'__meta__': {'class_fullname': 'pecos.xmc.xlinear.model###XLinearModel.PredParams'}, 'hlm_args': {'__meta__': {'class_fullname': 'pecos.xmc.base###HierarchicalMLModel.PredParams'}, 'model_chain': {'__meta__': {'class_fullname': 'pecos.xmc.base###MLModel.PredParams'}, 'only_topk': 20, 'post_processor': 'l3-hinge'}}}}\n"
     ]
    }
   ],
   "source": [
    "print(train_params.to_dict())\n",
    "print(pred_params.to_dict())"
   ]
  },
  {
   "cell_type": "code",
   "execution_count": 15,
   "id": "10546efb",
   "metadata": {
    "execution": {
     "iopub.execute_input": "2021-10-28T15:02:53.271827Z",
     "iopub.status.busy": "2021-10-28T15:02:53.260693Z",
     "iopub.status.idle": "2021-10-28T15:02:53.274318Z",
     "shell.execute_reply": "2021-10-28T15:02:53.274949Z",
     "shell.execute_reply.started": "2021-10-28T14:59:06.350752Z"
    },
    "papermill": {
     "duration": 0.041241,
     "end_time": "2021-10-28T15:02:53.275149",
     "exception": false,
     "start_time": "2021-10-28T15:02:53.233908",
     "status": "completed"
    },
    "tags": []
   },
   "outputs": [],
   "source": [
    "preliminary_indexer_params= dict(#HierarchicalKMeans.TrainParams(\n",
    "    nr_splits=16, \n",
    "    min_codes=None, \n",
    "    max_leaf_size=100, \n",
    "    imbalanced_ratio=0.0, \n",
    "    imbalanced_depth=100, \n",
    "    spherical=True, seed=0, \n",
    "    kmeans_max_iter=20, \n",
    "    threads=-1), \n",
    "refined_indexer_params= dict(#HierarchicalKMeans.TrainParams(\n",
    "    nr_splits=16, \n",
    "    min_codes=None, \n",
    "    max_leaf_size=100, \n",
    "    imbalanced_ratio=0.0, \n",
    "    imbalanced_depth=100, \n",
    "    spherical=True, \n",
    "    seed=0, \n",
    "    kmeans_max_iter=20, \n",
    "    threads=-1), \n",
    "matcher_params_chain= dict(#TransformerMatcher.TrainParams(\n",
    "    model_shortcut='bert-base-cased', \n",
    "    negative_sampling='tfn', \n",
    "    loss_function='squared-hinge', \n",
    "    bootstrap_method='linear', \n",
    "    lr_schedule='linear', \n",
    "    threshold=0.1, \n",
    "    hidden_dropout_prob=0.1, \n",
    "    batch_size=8, \n",
    "    batch_gen_workers=4, \n",
    "    max_active_matching_labels=None, \n",
    "    max_num_labels_in_gpu=65536, \n",
    "    max_steps=0, \n",
    "    max_no_improve_cnt=-1, \n",
    "    num_train_epochs=5, \n",
    "    gradient_accumulation_steps=1, \n",
    "    weight_decay=0, \n",
    "    max_grad_norm=1.0, \n",
    "    learning_rate=0.0001, \n",
    "    adam_epsilon=1e-08, \n",
    "    warmup_steps=0, \n",
    "    logging_steps=50, \n",
    "    save_steps=100, \n",
    "    cost_sensitive_ranker=False, \n",
    "    use_gpu=True, \n",
    "    checkpoint_dir='', \n",
    "    cache_dir='', \n",
    "    init_model_dir='../input/test-xtransformer-saved-model/saved_model'), \n",
    "ranker_params= dict(#XLinearModel.TrainParams(\n",
    "    mode='full-model', \n",
    "    ranker_level=1, \n",
    "    nr_splits=16,\n",
    "    min_codes=None, \n",
    "    shallow=False, \n",
    "    rel_mode='disable', \n",
    "    rel_norm='no-norm', \n",
    "    hlm_args= dict(#HierarchicalMLModel.TrainParams(\n",
    "        neg_mining_chain='tfn',\n",
    "        model_chain= dict(#MLModel.TrainParams(\n",
    "            threshold=0.1, \n",
    "            max_nonzeros_per_label=None, \n",
    "            solver_type='L2R_L2LOSS_SVC_DUAL', \n",
    "            Cp=1.0, \n",
    "            Cn=1.0, \n",
    "            max_iter=100, \n",
    "            eps=0.1, \n",
    "            bias=1.0, \n",
    "            threads=-1, \n",
    "            verbose=0, \n",
    "            newton_eps=0.01))),\n",
    "do_fine_tune=True,\n",
    "only_encoder=False,\n",
    "fix_clustering=False,\n",
    "max_match_clusters=32768,\n",
    "save_emb_dir=None"
   ]
  },
  {
   "cell_type": "code",
   "execution_count": 16,
   "id": "8405d418",
   "metadata": {
    "execution": {
     "iopub.execute_input": "2021-10-28T15:02:53.327749Z",
     "iopub.status.busy": "2021-10-28T15:02:53.326635Z",
     "iopub.status.idle": "2021-10-28T15:19:14.569629Z",
     "shell.execute_reply": "2021-10-28T15:19:14.570621Z",
     "shell.execute_reply.started": "2021-10-28T14:12:21.066540Z"
    },
    "papermill": {
     "duration": 981.273002,
     "end_time": "2021-10-28T15:19:14.571020",
     "exception": false,
     "start_time": "2021-10-28T15:02:53.298018",
     "status": "completed"
    },
    "tags": []
   },
   "outputs": [
    {
     "name": "stderr",
     "output_type": "stream",
     "text": [
      "Some weights of the model checkpoint at ../input/test-xtransformer-saved-model/saved_model/text_encoder were not used when initializing BertForXMC: ['classifier.weight', 'classifier.bias']\n",
      "- This IS expected if you are initializing BertForXMC from the checkpoint of a model trained on another task or with another architecture (e.g. initializing a BertForSequenceClassification model from a BertForPreTraining model).\n",
      "- This IS NOT expected if you are initializing BertForXMC from the checkpoint of a model that you expect to be exactly identical (initializing a BertForSequenceClassification model from a BertForSequenceClassification model).\n",
      "Some weights of the model checkpoint at ../input/test-xtransformer-saved-model/saved_model/text_encoder were not used when initializing BertForXMC: ['classifier.weight', 'classifier.bias']\n",
      "- This IS expected if you are initializing BertForXMC from the checkpoint of a model trained on another task or with another architecture (e.g. initializing a BertForSequenceClassification model from a BertForPreTraining model).\n",
      "- This IS NOT expected if you are initializing BertForXMC from the checkpoint of a model that you expect to be exactly identical (initializing a BertForSequenceClassification model from a BertForSequenceClassification model).\n"
     ]
    },
    {
     "name": "stdout",
     "output_type": "stream",
     "text": [
      "CPU times: user 26min 2s, sys: 60 s, total: 27min 2s\n",
      "Wall time: 16min 21s\n"
     ]
    }
   ],
   "source": [
    "%%time\n",
    "xtf = XTransformer.train(\n",
    "    prob,\n",
    "    train_params=train_params,\n",
    "    pred_params=pred_params)\n",
    "xtf.save('XR-Transformer')"
   ]
  },
  {
   "cell_type": "code",
   "execution_count": 17,
   "id": "1c86ea21",
   "metadata": {
    "execution": {
     "iopub.execute_input": "2021-10-28T15:19:14.624509Z",
     "iopub.status.busy": "2021-10-28T15:19:14.623417Z",
     "iopub.status.idle": "2021-10-28T15:20:50.020200Z",
     "shell.execute_reply": "2021-10-28T15:20:50.020737Z",
     "shell.execute_reply.started": "2021-10-28T14:27:18.693366Z"
    },
    "papermill": {
     "duration": 95.426839,
     "end_time": "2021-10-28T15:20:50.020980",
     "exception": false,
     "start_time": "2021-10-28T15:19:14.594141",
     "status": "completed"
    },
    "tags": []
   },
   "outputs": [
    {
     "name": "stdout",
     "output_type": "stream",
     "text": [
      "CPU times: user 4min 20s, sys: 7.08 s, total: 4min 27s\n",
      "Wall time: 1min 35s\n"
     ]
    }
   ],
   "source": [
    "%%time\n",
    "xtf = XTransformer.load('XR-Transformer')\n",
    "tmp3 = xtf.predict(X_text_train.tolist(), X_train)\n",
    "tmp4 = xtf.predict(X_text_test.tolist(), X_test)"
   ]
  },
  {
   "cell_type": "code",
   "execution_count": 18,
   "id": "74936883",
   "metadata": {
    "execution": {
     "iopub.execute_input": "2021-10-28T15:20:50.080498Z",
     "iopub.status.busy": "2021-10-28T15:20:50.079763Z",
     "iopub.status.idle": "2021-10-28T15:20:53.609638Z",
     "shell.execute_reply": "2021-10-28T15:20:53.609007Z",
     "shell.execute_reply.started": "2021-10-27T20:43:48.381424Z"
    },
    "papermill": {
     "duration": 3.565431,
     "end_time": "2021-10-28T15:20:53.609793",
     "exception": false,
     "start_time": "2021-10-28T15:20:50.044362",
     "status": "completed"
    },
    "tags": []
   },
   "outputs": [
    {
     "data": {
      "image/png": "[encoded data removed]",
      "text/plain": [
       "<Figure size 360x576 with 1 Axes>"
      ]
     },
     "metadata": {
      "needs_background": "light"
     },
     "output_type": "display_data"
    }
   ],
   "source": [
    "# Différents scores en fonction du seuil de validation de tag\n",
    "rangeX = np.linspace(0.1,0.9,50)\n",
    "plt.figure(figsize=(5,8))\n",
    "for score, kwargs, title in zip(\n",
    "    [metrics.accuracy_score, metrics.recall_score, metrics.precision_score, metrics.jaccard_score, metrics.f1_score], \n",
    "    [{},{'average':'weighted'},{'average':'weighted'},{'average':'weighted'},{'average':'weighted'}],\n",
    "    ['Fidélité','Rappel','Précision','Jaccard','F1-score']):\n",
    "    \n",
    "    scores_train, scores_test = [], []\n",
    "    for threshold in rangeX:\n",
    "        scores_test.append(score(Y_test, tmp4 > threshold, **kwargs))\n",
    "    plt.plot(rangeX, scores_test, label=title)\n",
    "    \n",
    "plt.title('Test')\n",
    "plt.xlabel('Seuil')\n",
    "plt.ylabel('Score')\n",
    "plt.legend()\n",
    "plt.show()"
   ]
  },
  {
   "cell_type": "code",
   "execution_count": 19,
   "id": "97cb11a3",
   "metadata": {
    "execution": {
     "iopub.execute_input": "2021-10-28T15:20:53.663768Z",
     "iopub.status.busy": "2021-10-28T15:20:53.663097Z",
     "iopub.status.idle": "2021-10-28T15:20:53.700224Z",
     "shell.execute_reply": "2021-10-28T15:20:53.700680Z",
     "shell.execute_reply.started": "2021-10-28T14:29:29.888042Z"
    },
    "papermill": {
     "duration": 0.066697,
     "end_time": "2021-10-28T15:20:53.700901",
     "exception": false,
     "start_time": "2021-10-28T15:20:53.634204",
     "status": "completed"
    },
    "tags": []
   },
   "outputs": [],
   "source": [
    "threshold = 0.25\n",
    "Y_pred_train = tmp3 > threshold\n",
    "Y_pred_test = tmp4 > threshold"
   ]
  },
  {
   "cell_type": "code",
   "execution_count": 20,
   "id": "fc27b5e5",
   "metadata": {
    "execution": {
     "iopub.execute_input": "2021-10-28T15:20:53.753674Z",
     "iopub.status.busy": "2021-10-28T15:20:53.753072Z",
     "iopub.status.idle": "2021-10-28T15:20:53.935770Z",
     "shell.execute_reply": "2021-10-28T15:20:53.936223Z",
     "shell.execute_reply.started": "2021-10-28T14:29:33.358849Z"
    },
    "papermill": {
     "duration": 0.211886,
     "end_time": "2021-10-28T15:20:53.936418",
     "exception": false,
     "start_time": "2021-10-28T15:20:53.724532",
     "status": "completed"
    },
    "tags": []
   },
   "outputs": [
    {
     "data": {
      "text/html": [
       "<div>\n",
       "<style scoped>\n",
       "    .dataframe tbody tr th:only-of-type {\n",
       "        vertical-align: middle;\n",
       "    }\n",
       "\n",
       "    .dataframe tbody tr th {\n",
       "        vertical-align: top;\n",
       "    }\n",
       "\n",
       "    .dataframe thead th {\n",
       "        text-align: right;\n",
       "    }\n",
       "</style>\n",
       "<table border=\"1\" class=\"dataframe\">\n",
       "  <thead>\n",
       "    <tr style=\"text-align: right;\">\n",
       "      <th></th>\n",
       "      <th>Accuracy</th>\n",
       "      <th>Recall</th>\n",
       "      <th>Precision</th>\n",
       "      <th>F1 score</th>\n",
       "      <th>Jaccard</th>\n",
       "    </tr>\n",
       "  </thead>\n",
       "  <tbody>\n",
       "    <tr>\n",
       "      <th>Train</th>\n",
       "      <td>0.448192</td>\n",
       "      <td>0.736448</td>\n",
       "      <td>0.909082</td>\n",
       "      <td>0.80243</td>\n",
       "      <td>0.687052</td>\n",
       "    </tr>\n",
       "    <tr>\n",
       "      <th>Test</th>\n",
       "      <td>0.150397</td>\n",
       "      <td>0.462238</td>\n",
       "      <td>0.652785</td>\n",
       "      <td>0.52501</td>\n",
       "      <td>0.395899</td>\n",
       "    </tr>\n",
       "  </tbody>\n",
       "</table>\n",
       "</div>"
      ],
      "text/plain": [
       "       Accuracy    Recall  Precision  F1 score   Jaccard\n",
       "Train  0.448192  0.736448   0.909082   0.80243  0.687052\n",
       "Test   0.150397  0.462238   0.652785   0.52501  0.395899"
      ]
     },
     "execution_count": 20,
     "metadata": {},
     "output_type": "execute_result"
    }
   ],
   "source": [
    "xtf_df = df_scores()\n",
    "xtf_df"
   ]
  },
  {
   "cell_type": "code",
   "execution_count": 21,
   "id": "bedfa011",
   "metadata": {
    "execution": {
     "iopub.execute_input": "2021-10-28T15:20:54.014715Z",
     "iopub.status.busy": "2021-10-28T15:20:53.990589Z",
     "iopub.status.idle": "2021-10-28T15:20:55.285263Z",
     "shell.execute_reply": "2021-10-28T15:20:55.284549Z",
     "shell.execute_reply.started": "2021-10-28T14:38:51.859886Z"
    },
    "papermill": {
     "duration": 1.324219,
     "end_time": "2021-10-28T15:20:55.285441",
     "exception": false,
     "start_time": "2021-10-28T15:20:53.961222",
     "status": "completed"
    },
    "tags": []
   },
   "outputs": [
    {
     "name": "stdout",
     "output_type": "stream",
     "text": [
      "  adding: XR-Transformer/ (stored 0%)\r\n",
      "  adding: XR-Transformer/concat_model/ (stored 0%)\r\n",
      "  adding: XR-Transformer/concat_model/param.json (deflated 6%)\r\n",
      "  adding: XR-Transformer/concat_model/ranker/ (stored 0%)\r\n",
      "  adding: XR-Transformer/concat_model/ranker/0.model/ (stored 0%)\r\n",
      "  adding: XR-Transformer/concat_model/ranker/0.model/W.npz (deflated 38%)\r\n",
      "  adding: XR-Transformer/concat_model/ranker/0.model/param.json (deflated 41%)\r\n",
      "  adding: XR-Transformer/concat_model/ranker/0.model/C.npz (deflated 73%)\r\n",
      "  adding: XR-Transformer/concat_model/ranker/param.json (deflated 28%)\r\n",
      "  adding: XR-Transformer/concat_model/ranker/1.model/ (stored 0%)\r\n",
      "  adding: XR-Transformer/concat_model/ranker/1.model/W.npz (deflated 35%)\r\n",
      "  adding: XR-Transformer/concat_model/ranker/1.model/param.json (deflated 41%)\r\n",
      "  adding: XR-Transformer/concat_model/ranker/1.model/C.npz (deflated 79%)\r\n",
      "  adding: XR-Transformer/param.json (deflated 22%)\r\n",
      "  adding: XR-Transformer/text_encoder/ (stored 0%)\r\n",
      "  adding: XR-Transformer/text_encoder/text_tokenizer/ (stored 0%)\r\n",
      "  adding: XR-Transformer/text_encoder/text_tokenizer/tokenizer_config.json (deflated 40%)\r\n",
      "  adding: XR-Transformer/text_encoder/text_tokenizer/special_tokens_map.json (deflated 40%)\r\n",
      "  adding: XR-Transformer/text_encoder/text_tokenizer/vocab.txt (deflated 5%)\r\n",
      "  adding: XR-Transformer/text_encoder/text_model (deflated 15%)\r\n",
      "  adding: XR-Transformer/text_encoder/param.json (deflated 56%)\r\n",
      "  adding: XR-Transformer/text_encoder/text_encoder/ (stored 0%)\r\n",
      "  adding: XR-Transformer/text_encoder/text_encoder/config.json (deflated 78%)\r\n",
      "  adding: XR-Transformer/text_encoder/text_encoder/pytorch_model.bin (deflated 38%)\r\n",
      "  adding: XR-Transformer/text_encoder/C.npz (deflated 79%)\r\n"
     ]
    }
   ],
   "source": [
    "!zip -r XR-Transformer.zip XR-Transformer"
   ]
  },
  {
   "cell_type": "code",
   "execution_count": 22,
   "id": "2c375a63",
   "metadata": {
    "execution": {
     "iopub.execute_input": "2021-10-28T15:20:55.360546Z",
     "iopub.status.busy": "2021-10-28T15:20:55.359852Z",
     "iopub.status.idle": "2021-10-28T15:20:55.648431Z",
     "shell.execute_reply": "2021-10-28T15:20:55.647767Z",
     "shell.execute_reply.started": "2021-10-27T20:45:03.095398Z"
    },
    "papermill": {
     "duration": 0.337246,
     "end_time": "2021-10-28T15:20:55.648619",
     "exception": false,
     "start_time": "2021-10-28T15:20:55.311373",
     "status": "completed"
    },
    "tags": []
   },
   "outputs": [
    {
     "data": {
      "image/png": "[encoded data removed]",
      "text/plain": [
       "<Figure size 504x504 with 1 Axes>"
      ]
     },
     "metadata": {
      "needs_background": "light"
     },
     "output_type": "display_data"
    }
   ],
   "source": [
    "pd.concat([xlm_df, xtf_df], keys=['XLM','XTF']).loc[:,'Test',:].plot.bar(figsize=(7,7), rot=0);"
   ]
  },
  {
   "cell_type": "markdown",
   "id": "76b49fe8",
   "metadata": {
    "papermill": {
     "duration": 0.024982,
     "end_time": "2021-10-28T15:20:55.699498",
     "exception": false,
     "start_time": "2021-10-28T15:20:55.674516",
     "status": "completed"
    },
    "tags": []
   },
   "source": [
    "## Examples"
   ]
  },
  {
   "cell_type": "code",
   "execution_count": 23,
   "id": "4eb74923",
   "metadata": {
    "execution": {
     "iopub.execute_input": "2021-10-28T15:20:55.757756Z",
     "iopub.status.busy": "2021-10-28T15:20:55.757084Z",
     "iopub.status.idle": "2021-10-28T15:20:55.808295Z",
     "shell.execute_reply": "2021-10-28T15:20:55.808708Z",
     "shell.execute_reply.started": "2021-10-27T20:45:03.583123Z"
    },
    "papermill": {
     "duration": 0.083825,
     "end_time": "2021-10-28T15:20:55.808915",
     "exception": false,
     "start_time": "2021-10-28T15:20:55.725090",
     "status": "completed"
    },
    "tags": []
   },
   "outputs": [
    {
     "name": "stdout",
     "output_type": "stream",
     "text": [
      "0 True ['assembly' 'x86']\n",
      "0 XRLi ['assembly']\n",
      "0 XRtr ['assembly']\n",
      "1 True ['exception' 'handling' 'net' 'services' 'vb' 'web']\n",
      "1 XRLi ['exception' 'handling']\n",
      "1 XRtr ['exception' 'handling' 'net']\n",
      "2 True ['firefox']\n",
      "2 XRLi ['firefox' 'macos']\n",
      "2 XRtr ['firefox' 'macos']\n",
      "3 True ['command' 'line' 'linux']\n",
      "3 XRLi ['linux']\n",
      "3 XRtr ['command' 'linux']\n",
      "4 True ['null' 'overloading']\n",
      "4 XRLi ['methods' 'overloading']\n",
      "4 XRtr ['methods' 'overloading']\n"
     ]
    }
   ],
   "source": [
    "for i in range(5):\n",
    "    print(i, 'True', tfidfY.inverse_transform(Y_test[i])[0])\n",
    "    print(i, 'XRLi', tfidfY.inverse_transform((tmp2 > 0.25)[i])[0])\n",
    "    print(i, 'XRtr', tfidfY.inverse_transform((tmp4 > 0.25)[i])[0])"
   ]
  }
 ],
 "metadata": {
  "kernelspec": {
   "display_name": "Python 3",
   "language": "python",
   "name": "python3"
  },
  "language_info": {
   "codemirror_mode": {
    "name": "ipython",
    "version": 3
   },
   "file_extension": ".py",
   "mimetype": "text/x-python",
   "name": "python",
   "nbconvert_exporter": "python",
   "pygments_lexer": "ipython3",
   "version": "3.7.10"
  },
  "papermill": {
   "default_parameters": {},
   "duration": 1223.080459,
   "end_time": "2021-10-28T15:20:59.469405",
   "environment_variables": {},
   "exception": null,
   "input_path": "__notebook__.ipynb",
   "output_path": "__notebook__.ipynb",
   "parameters": {},
   "start_time": "2021-10-28T15:00:36.388946",
   "version": "2.3.3"
  }
 },
 "nbformat": 4,
 "nbformat_minor": 5
}
